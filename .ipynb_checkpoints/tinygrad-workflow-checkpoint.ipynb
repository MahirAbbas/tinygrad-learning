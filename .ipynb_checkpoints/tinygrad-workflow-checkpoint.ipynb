{
 "cells": [
  {
   "cell_type": "markdown",
   "id": "6bd1ae52-765a-4a1f-a5c0-15d19e4aee9c",
   "metadata": {},
   "source": [
    "# rought outline of workflow"
   ]
  },
  {
   "cell_type": "markdown",
   "id": "c8009c2b-6ac2-43e6-975c-60bf13c3376a",
   "metadata": {},
   "source": [
    "1. Get data ready (turn into tensors)\n",
    "2. Build or pick a pretrained model\n",
    "2.1. Pick a loss function & optimiser\n",
    "2.2. Build a training loop\n",
    "3. Fit the model to the data\n",
    "4. Evaluae teh mode;\n",
    "5. Improve the model\n",
    "6. Save and reload the model\n",
    "\n"
   ]
  },
  {
   "cell_type": "code",
   "execution_count": 1,
   "id": "90a62c8b-441c-48a2-8ce8-35a1d0455591",
   "metadata": {
    "tags": []
   },
   "outputs": [],
   "source": [
    "import tinygrad\n",
    "import matplotlib.pyplot as plt\n",
    "from tinygrad.tensor import Tensor\n",
    "from tinygrad.nn.optim import SGD\n",
    "from extra.training import train, sparse_categorical_crossentropy\n",
    "import numpy\n"
   ]
  },
  {
   "cell_type": "markdown",
   "id": "8da851a2-0a2b-41c6-908a-36705a5701e5",
   "metadata": {},
   "source": [
    "## 1. Data (preparing and loading)"
   ]
  },
  {
   "cell_type": "markdown",
   "id": "811e3151-d2c6-40a7-a72c-e6e9ac9634b0",
   "metadata": {},
   "source": [
    "### example with known paramater"
   ]
  },
  {
   "cell_type": "code",
   "execution_count": 2,
   "id": "7f7325f9-5789-4fac-ae2b-b4dc080d5edd",
   "metadata": {
    "tags": []
   },
   "outputs": [],
   "source": [
    "weight = 0.7\n",
    "bias = 0.3\n",
    "\n",
    "\n",
    "X = Tensor.arange(start=0, stop=1, step=0.02).unsqueeze(dim=1)\n",
    "y = weight * X +bias\n",
    "numpy.set_printoptions(precision=4,floatmode=\"fixed\")\n",
    "#print(X[:20].numpy())\n",
    "#print(X[:20].numpy().dtype)"
   ]
  },
  {
   "cell_type": "markdown",
   "id": "89ec512a-8f9a-4da6-b42f-6866cfa58e51",
   "metadata": {},
   "source": [
    "## Split data into trainnig and test sets"
   ]
  },
  {
   "cell_type": "code",
   "execution_count": 3,
   "id": "4e4b0ee9-06d0-4fdb-8a5b-42e1b373cf44",
   "metadata": {
    "tags": []
   },
   "outputs": [],
   "source": [
    "training_split = int(.8 * len(X.numpy()))\n",
    "training_split\n",
    "X_train, y_train = X[:training_split],y[:training_split]\n",
    "X_test, y_test = X[training_split:],y[training_split:]\n",
    "#print(X_test.numpy())"
   ]
  },
  {
   "cell_type": "code",
   "execution_count": 4,
   "id": "d9102b24-fcc5-4273-963e-191c2bfd8120",
   "metadata": {
    "tags": []
   },
   "outputs": [],
   "source": [
    "#len(X_train.numpy()), len(y_train.numpy()), len(X_test.numpy()), len(y_test.numpy())"
   ]
  },
  {
   "cell_type": "markdown",
   "id": "89d6a841-66ed-471d-8b60-8aa452ffec7f",
   "metadata": {
    "tags": []
   },
   "source": [
    "# matplotlib"
   ]
  },
  {
   "cell_type": "code",
   "execution_count": 5,
   "id": "24bef94b-dab9-4c0b-b45b-f1d7f1f5969f",
   "metadata": {
    "tags": []
   },
   "outputs": [],
   "source": [
    "def plot_predictions(train_data=X_train.numpy(), \n",
    "                     train_labels=y_train.numpy(), \n",
    "                     test_data=X_test.numpy(),\n",
    "                     test_labels=y_test.numpy(),\n",
    "                     predictions=None):\n",
    "    plt.figure(figsize=(10,7))\n",
    "    plt.scatter(train_data, train_labels, c=\"b\", s=4, label=\"Training data\")\n",
    "    plt.scatter(test_data, test_labels, c=\"g\", s=4, label=\"Testing data\")\n",
    "    if predictions is not None:\n",
    "        plt.scatter(test_data, predictions.numpy(), c=\"r\", s=4, label=\"Predictions\")\n",
    "        \n",
    "    plt.legend(prop={\"size\":14});"
   ]
  },
  {
   "cell_type": "code",
   "execution_count": 6,
   "id": "518abfb1-759a-4b56-bf78-1b179e8df411",
   "metadata": {
    "tags": []
   },
   "outputs": [
    {
     "data": {
      "image/png": "[encoded data removed]",
      "text/plain": [
       "<Figure size 1000x700 with 1 Axes>"
      ]
     },
     "metadata": {},
     "output_type": "display_data"
    }
   ],
   "source": [
    "plot_predictions();"
   ]
  },
  {
   "cell_type": "markdown",
   "id": "f28d3837-e6d5-4e9a-a35a-af5075061781",
   "metadata": {},
   "source": [
    "# linear regression model"
   ]
  },
  {
   "cell_type": "code",
   "execution_count": 7,
   "id": "811d8caf-9769-4459-8190-87e5a7513490",
   "metadata": {
    "tags": []
   },
   "outputs": [],
   "source": [
    "class LinearRegressionModel:\n",
    "    def __init__(self, input_size):\n",
    "        self.weights = Tensor.randn(input_size).reshape(1,-1)\n",
    "        self.bias = Tensor.randn(input_size )\n",
    "        \n",
    "    def forward(self, x):\n",
    "        return self.weights * x + self.bias\n",
    "    "
   ]
  },
  {
   "cell_type": "markdown",
   "id": "c754d33e-2706-44b6-8dc8-f033983e9b3e",
   "metadata": {},
   "source": [
    "###  Cheat Sheet\n",
    "https://pytorch.org/tutorials/beginner/ptcheat.html\n"
   ]
  },
  {
   "cell_type": "code",
   "execution_count": 8,
   "id": "bb44d30e-0015-4d7f-8860-08801431641b",
   "metadata": {
    "tags": []
   },
   "outputs": [
    {
     "name": "stdout",
     "output_type": "stream",
     "text": [
      "[[0.1419]]\n",
      "[-1.6685]\n"
     ]
    }
   ],
   "source": [
    "#numpy.random.seed(42)\n",
    "Tensor.manual_seed(42)\n",
    "\n",
    "model_0 = LinearRegressionModel(input_size=1)\n",
    "\n",
    "print(model_0.weights.numpy())\n",
    "print(model_0.bias.numpy())"
   ]
  },
  {
   "cell_type": "code",
   "execution_count": 9,
   "id": "d23d0e42-3c63-499d-b519-8bd64bc9e2f0",
   "metadata": {
    "tags": []
   },
   "outputs": [
    {
     "data": {
      "text/plain": [
       "array([-1.3321,  0.5826,  0.3740,  1.7554,  0.1396], dtype=float32)"
      ]
     },
     "execution_count": 9,
     "metadata": {},
     "output_type": "execute_result"
    }
   ],
   "source": [
    "Tensor.randn(5).numpy()"
   ]
  },
  {
   "cell_type": "code",
   "execution_count": 10,
   "id": "72c72b63-b506-4a5e-a0b1-ab7c48c92f5d",
   "metadata": {
    "tags": []
   },
   "outputs": [
    {
     "name": "stdout",
     "output_type": "stream",
     "text": [
      "(10, 1)\n"
     ]
    }
   ],
   "source": [
    "X = numpy.random.randn(100, 1).astype(numpy.float32)\n",
    "#print(model_0.weights.shape)\n",
    "\n",
    "\n",
    "#X_test_tensor = Tensor(X).reshape(1,-1)\n",
    "X_test_tensor = X_test\n",
    "#print(X_test_tensor[1].shape)\n",
    "#print(X_test_tensor[0].numpy())\n",
    "#print(X_test_tensor[1].numpy())\n",
    "#print(X_test_tensor.numpy())\n",
    "#model_0.weights.dot(X_test_tensor[0])\n",
    "#print(X_test_tensor.shape)\n",
    "print(X_test.shape)"
   ]
  },
  {
   "cell_type": "code",
   "execution_count": 11,
   "id": "a4f66e1f-c8c9-4e68-95c2-50f09a449ea7",
   "metadata": {
    "tags": []
   },
   "outputs": [],
   "source": [
    "#print(X_test)\n",
    "#print(model_0.weights.shape)"
   ]
  },
  {
   "cell_type": "code",
   "execution_count": 12,
   "id": "eec427e7-7108-4f9c-8cb8-c5ce06760601",
   "metadata": {
    "tags": []
   },
   "outputs": [],
   "source": [
    "optimiser = SGD([model_0.weights, model_0.bias], lr = 0.01)\n",
    "for value in X_test:\n",
    "    #print(value)\n",
    "    y_preds = model_0.forward(value)\n",
    "    \n",
    "y_predictions = model_0.forward(X_test)"
   ]
  },
  {
   "cell_type": "code",
   "execution_count": 13,
   "id": "347d4620-ff83-4b5a-a382-c31d44699ea3",
   "metadata": {
    "tags": []
   },
   "outputs": [
    {
     "name": "stdout",
     "output_type": "stream",
     "text": [
      "[[-1.5294]]\n",
      "[[-1.5550]\n",
      " [-1.5521]\n",
      " [-1.5493]\n",
      " [-1.5465]\n",
      " [-1.5436]\n",
      " [-1.5408]\n",
      " [-1.5380]\n",
      " [-1.5351]\n",
      " [-1.5323]\n",
      " [-1.5294]]\n"
     ]
    }
   ],
   "source": [
    "print(y_preds.numpy())\n",
    "print(y_predictions.numpy())"
   ]
  },
  {
   "cell_type": "code",
   "execution_count": 14,
   "id": "1fe8d6fd-a913-446c-b49b-501c55b1d2e2",
   "metadata": {
    "tags": []
   },
   "outputs": [],
   "source": [
    "#print(X_test.numpy())"
   ]
  },
  {
   "cell_type": "code",
   "execution_count": 15,
   "id": "b34fc327-a0ca-4543-a4e9-5d9f58f5526c",
   "metadata": {
    "tags": []
   },
   "outputs": [],
   "source": [
    "#print(y_test.numpy())"
   ]
  },
  {
   "cell_type": "code",
   "execution_count": 16,
   "id": "90b472e8-8d9b-4a78-8516-eedca1667fe5",
   "metadata": {
    "tags": []
   },
   "outputs": [
    {
     "data": {
      "image/png": "[encoded data removed]",
      "text/plain": [
       "<Figure size 1000x700 with 1 Axes>"
      ]
     },
     "metadata": {},
     "output_type": "display_data"
    }
   ],
   "source": [
    "plot_predictions(predictions=y_predictions)"
   ]
  },
  {
   "cell_type": "markdown",
   "id": "cf3e624d-97ed-4c57-91f4-4c69eb0ff6ae",
   "metadata": {
    "tags": []
   },
   "source": [
    "## 3 train model\n"
   ]
  },
  {
   "cell_type": "markdown",
   "id": "9e20ee81-2a67-4834-9e10-c5d4813efebe",
   "metadata": {},
   "source": [
    "one way to measure model predictions is using a loss function"
   ]
  },
  {
   "cell_type": "markdown",
   "id": "bd6c8995-5db9-4bb4-9275-ee65d8afd231",
   "metadata": {},
   "source": [
    "this we need to train\n",
    "**Loss Function**:\n",
    "**Optimiser**:\n",
    "\n",
    "We Need\n",
    "- Training Loop\n",
    "- Testing Loop\n"
   ]
  },
  {
   "cell_type": "code",
   "execution_count": 17,
   "id": "6209f053-c418-4503-a62d-c527e1d741e4",
   "metadata": {
    "tags": []
   },
   "outputs": [
    {
     "name": "stdout",
     "output_type": "stream",
     "text": [
      "<Tensor buffer<1, dtypes.float> with grad None>\n",
      "<Tensor buffer<1, dtypes.float> with grad None>\n"
     ]
    }
   ],
   "source": [
    "print(model_0.weights)\n",
    "\n",
    "print(model_0.bias)\n"
   ]
  },
  {
   "cell_type": "markdown",
   "id": "98af2d3a-0d06-4f6f-9aba-030c39de7962",
   "metadata": {},
   "source": [
    "## Setup Loss function\n",
    "MAE_loss = Tensor.mean(Tensor.abs(y_pred-y_test))\n"
   ]
  },
  {
   "cell_type": "code",
   "execution_count": 216,
   "id": "c424e89a-e216-4d3f-8b47-de919f2b585f",
   "metadata": {
    "tags": []
   },
   "outputs": [],
   "source": [
    "def MAE_loss(out, y):\n",
    "    return Tensor.mean(Tensor.abs(out.sub(y)))\n",
    "    "
   ]
  },
  {
   "cell_type": "code",
   "execution_count": 217,
   "id": "48990b7f-6b4d-43e7-a390-387c413ac5e1",
   "metadata": {
    "tags": []
   },
   "outputs": [],
   "source": [
    "from tinygrad.nn.optim import *"
   ]
  },
  {
   "cell_type": "code",
   "execution_count": 218,
   "id": "2c055c3c-0cea-470c-acab-b265a36c6a47",
   "metadata": {
    "tags": []
   },
   "outputs": [
    {
     "data": {
      "text/plain": [
       "[<Tensor buffer<1, dtypes.float> with grad <LB (1, 1) dtypes.float op:buffer<1, dtypes.float> st:ShapeTracker(shape=(1, 1), views=[View((1, 1), (0, 0), 0, None)])>>,\n",
       " <Tensor buffer<1, dtypes.float> with grad <LB (1,) dtypes.float op:buffer<1, dtypes.float> st:ShapeTracker(shape=(1,), views=[View((1,), (0,), 0, None)])>>]"
      ]
     },
     "execution_count": 218,
     "metadata": {},
     "output_type": "execute_result"
    }
   ],
   "source": [
    "get_parameters(model_0)"
   ]
  },
  {
   "cell_type": "code",
   "execution_count": 219,
   "id": "7703e6d5-67de-40c6-b429-a81245962ab9",
   "metadata": {
    "tags": []
   },
   "outputs": [],
   "source": [
    "optim = SGD(get_parameters(model_0), lr=0.001)"
   ]
  },
  {
   "cell_type": "code",
   "execution_count": null,
   "id": "79b8a0dc-1d0d-46ea-9644-5a1667ef9b96",
   "metadata": {
    "tags": []
   },
   "outputs": [],
   "source": []
  },
  {
   "cell_type": "markdown",
   "id": "8523ae1a-672d-4ed3-b75f-e65ff4159039",
   "metadata": {},
   "source": [
    "## Building A training loop in tingrad\n",
    "\n",
    "0. loop through data\n",
    "1. forward pass\n",
    "2. calculate loss\n",
    "3. optimiser zero grad\n",
    "4. loss backward (backpropogation)\n",
    "5. Optimiser step\n"
   ]
  },
  {
   "cell_type": "code",
   "execution_count": 220,
   "id": "c26798e3-54fe-461c-aa72-2f6411fd5af7",
   "metadata": {
    "tags": []
   },
   "outputs": [
    {
     "name": "stdout",
     "output_type": "stream",
     "text": [
      "(40, 1)\n",
      "(40, 1)\n",
      "<Tensor <LB (40, 1) dtypes.float op:BinaryOps.ADD st:ShapeTracker(shape=(40, 1), views=[View((40, 1), (1, 0), 0, None)])> with grad None>\n",
      "<Tensor <LB (40, 1) dtypes.float op:BinaryOps.SUB st:ShapeTracker(shape=(40, 1), views=[View((40, 1), (1, 0), 0, None)])> with grad None>\n",
      "(40, 1)\n"
     ]
    }
   ],
   "source": [
    "print(y_train.shape)\n",
    "y_pred = model_0.forward(X_train)\n",
    "print(y_pred.shape)\n",
    "print(y_pred)\n",
    "print((y_pred-y_train))\n",
    "print(X_train.shape)"
   ]
  },
  {
   "cell_type": "code",
   "execution_count": 243,
   "id": "49ac8438-59e4-419d-881e-4053c07d059b",
   "metadata": {
    "tags": []
   },
   "outputs": [
    {
     "name": "stdout",
     "output_type": "stream",
     "text": [
      "[[0.7005]]\n",
      "[0.2994]\n"
     ]
    }
   ],
   "source": [
    "# epoch is one loop through data\n",
    "epochs = 1000\n",
    "\n",
    "# track values\n",
    "epoch_count = []\n",
    "loss_values = []\n",
    "test_loss_values = []\n",
    "\n",
    "# 0. loop through data\n",
    "\n",
    "for epoch in range(epochs):\n",
    "    # set model to training mode\n",
    "    #Tensor.training = True\n",
    "    \n",
    "    #loss.requires_grad = True\n",
    "    #1. forward pass\n",
    "    y_pred = model_0.forward(X_train)\n",
    "    \n",
    "    #2. calculate loss\n",
    "    loss = MAE_loss(y_pred, y_train)\n",
    "    \n",
    "    #3. optimiser zero grad\n",
    "    optim.zero_grad()\n",
    "    \n",
    "    #4. perforam backpropagtion\n",
    "    loss.backward()\n",
    "    #if noloss: del loss\n",
    "    \n",
    "    #5. perform gradient descent\n",
    "    optim.step()\n",
    "    \n",
    "    # turn off gradient tracking\n",
    "    # Tensor.requires_grad= False\n",
    "    \n",
    "print(model_0.weights.numpy())\n",
    "print(model_0.bias.numpy())\n"
   ]
  },
  {
   "cell_type": "code",
   "execution_count": 222,
   "id": "77c9f51d-9471-4fb6-83fc-40fff9abecc0",
   "metadata": {},
   "outputs": [
    {
     "name": "stdout",
     "output_type": "stream",
     "text": [
      "Test Loss: [7.1102e-05]\n"
     ]
    }
   ],
   "source": [
    "Tensor.training = False\n",
    "test_pred = model_0.forward(X_test)\n",
    "test_loss = MAE_loss(test_pred, y_test)\n",
    "print(f\"Test Loss: {test_loss.numpy()}\")"
   ]
  },
  {
   "cell_type": "markdown",
   "id": "72d4b6ab-dc3f-4a92-871f-6806fa2004d2",
   "metadata": {},
   "source": [
    "## Save a model in tinygrad\n",
    "\n",
    "implement save\n",
    "\n",
    "oh, there's get_state_dict in optim. can use say safetensors to save it, or make you own tiny format"
   ]
  },
  {
   "cell_type": "code",
   "execution_count": 233,
   "id": "8308abfe-c374-4d23-a490-8d93f18f4687",
   "metadata": {
    "tags": []
   },
   "outputs": [
    {
     "name": "stdout",
     "output_type": "stream",
     "text": [
      "saving model to: models/01_tinygrad_workflow_model_.pth\n"
     ]
    }
   ],
   "source": [
    "from pathlib import Path\n",
    "import pickle\n",
    "\n",
    "# create directory\n",
    "MODEL_PATH = Path(\"models\")\n",
    "MODEL_PATH.mkdir(parents=True, exist_ok=True)\n",
    "# create model save path\n",
    "MODEL_NAME = \"01_tinygrad_workflow_model_.pth\"\n",
    "MODEL_SAVE_PATH = MODEL_PATH / MODEL_NAME\n",
    "\n",
    "# SAve state\n",
    "print(f\"saving model to: {MODEL_SAVE_PATH}\")\n",
    "\n",
    "def save_model(model, filename):\n",
    "    with open(filename+'.npy', 'wb') as f:\n",
    "        for par in get_parameters(model):\n",
    "            numpy.save(f, par.cpu().numpy())\n"
   ]
  },
  {
   "cell_type": "code",
   "execution_count": 234,
   "id": "a8a2232b-6b8d-43fe-9c9a-04635d8f3b8e",
   "metadata": {
    "tags": []
   },
   "outputs": [],
   "source": [
    "save_model(model_0,\"01_tinygrad_workflow_model_.pth\")"
   ]
  },
  {
   "cell_type": "code",
   "execution_count": null,
   "id": "e2e37560-6f06-436c-88ed-1365e66b7c26",
   "metadata": {},
   "outputs": [],
   "source": []
  },
  {
   "cell_type": "markdown",
   "id": "d72f9751-56ce-4668-9b00-d24e3de4ee8b",
   "metadata": {},
   "source": [
    "# 6.1. Daaatata"
   ]
  },
  {
   "cell_type": "code",
   "execution_count": 235,
   "id": "0acaf1fa-eb76-4bf3-bfbb-92f021c838f5",
   "metadata": {
    "tags": []
   },
   "outputs": [],
   "source": [
    "from tinygrad.tensor import Tensor\n",
    "from tinygrad.nn import Linear\n",
    "\n",
    "# Define the input and output sizes\n",
    "input_size = 10\n",
    "output_size = 5\n",
    "\n",
    "# Create a linear layer\n",
    "linear_layer = Linear(in_features=input_size, out_features=output_size)\n",
    "\n",
    "# Create an input tensor\n",
    "x = Tensor.randn(1, input_size)\n",
    "\n",
    "# Forward pass through the linear layer\n",
    "output = linear_layer(x)\n"
   ]
  },
  {
   "cell_type": "code",
   "execution_count": 236,
   "id": "4aff1e6d-67d7-401c-8ea3-afe1c35cdb3d",
   "metadata": {
    "tags": []
   },
   "outputs": [],
   "source": [
    "class LinearModelV2:\n",
    "    def __init__(self, input_size, output_size):\n",
    "        self.linear_layer = Linear(in_features=input_size, out_features=output_size)\n",
    "    \n",
    "    def forward(self, x):\n",
    "        return self.linear_layer(x)"
   ]
  },
  {
   "cell_type": "code",
   "execution_count": 237,
   "id": "a758a247-f6ce-4e26-a17e-7cba7dc6bdbc",
   "metadata": {
    "tags": []
   },
   "outputs": [],
   "source": [
    "Tensor.manual_seed(42)\n",
    "model_1 = LinearModelV2(input_size=1,output_size=1)"
   ]
  },
  {
   "cell_type": "code",
   "execution_count": 238,
   "id": "56886d27-5061-45dd-9c9b-a1da827b295c",
   "metadata": {
    "tags": []
   },
   "outputs": [
    {
     "data": {
      "text/plain": [
       "[<Tensor <LB (1, 1) dtypes.float op:BinaryOps.MUL st:ShapeTracker(shape=(1, 1), views=[View((1, 1), (0, 0), 0, None)])> with grad None>,\n",
       " <Tensor <LB (1,) dtypes.float op:LoadOps.CONTIGUOUS st:ShapeTracker(shape=(1,), views=[View((1,), (0,), 0, None)])> with grad None>]"
      ]
     },
     "execution_count": 238,
     "metadata": {},
     "output_type": "execute_result"
    }
   ],
   "source": [
    "get_parameters(model_1)"
   ]
  },
  {
   "cell_type": "code",
   "execution_count": 239,
   "id": "accaa87d-b48d-4f99-9bc6-78ec21e64267",
   "metadata": {
    "tags": []
   },
   "outputs": [
    {
     "data": {
      "text/plain": [
       "(array([[-1.4229]], dtype=float32), array([0.0000], dtype=float32))"
      ]
     },
     "execution_count": 239,
     "metadata": {},
     "output_type": "execute_result"
    }
   ],
   "source": [
    "model_1.linear_layer.weight.numpy(),model_1.linear_layer.bias.numpy()"
   ]
  },
  {
   "cell_type": "markdown",
   "id": "947eeb60-9af3-4280-b661-2bfd1b85c347",
   "metadata": {
    "tags": []
   },
   "source": [
    "# 6.3 Training\n",
    "For training:\n",
    "- Loss function\n",
    "- Optimiser\n",
    "- Training Loop\n",
    "- Testing Loop\n",
    "\n"
   ]
  },
  {
   "cell_type": "code",
   "execution_count": 240,
   "id": "24605df8-f901-425b-834b-bc5fe2cf578a",
   "metadata": {
    "tags": []
   },
   "outputs": [],
   "source": [
    "from extra.training import *"
   ]
  },
  {
   "cell_type": "code",
   "execution_count": 256,
   "id": "af4b0ed7-fa51-4f62-a9c0-96a139079d19",
   "metadata": {
    "tags": []
   },
   "outputs": [
    {
     "data": {
      "text/plain": [
       "array([[0.0000],\n",
       "       [0.0200],\n",
       "       [0.0400],\n",
       "       [0.0600],\n",
       "       [0.0800],\n",
       "       [0.1000],\n",
       "       [0.1200],\n",
       "       [0.1400],\n",
       "       [0.1600],\n",
       "       [0.1800],\n",
       "       [0.2000],\n",
       "       [0.2200],\n",
       "       [0.2400],\n",
       "       [0.2600],\n",
       "       [0.2800],\n",
       "       [0.3000],\n",
       "       [0.3200],\n",
       "       [0.3400],\n",
       "       [0.3600],\n",
       "       [0.3800],\n",
       "       [0.4000],\n",
       "       [0.4200],\n",
       "       [0.4400],\n",
       "       [0.4600],\n",
       "       [0.4800],\n",
       "       [0.5000],\n",
       "       [0.5200],\n",
       "       [0.5400],\n",
       "       [0.5600],\n",
       "       [0.5800],\n",
       "       [0.6000],\n",
       "       [0.6200],\n",
       "       [0.6400],\n",
       "       [0.6600],\n",
       "       [0.6800],\n",
       "       [0.7000],\n",
       "       [0.7200],\n",
       "       [0.7400],\n",
       "       [0.7600],\n",
       "       [0.7800]], dtype=float32)"
      ]
     },
     "execution_count": 256,
     "metadata": {},
     "output_type": "execute_result"
    }
   ],
   "source": [
    "optimizer = SGD(get_parameters(model_1), lr=0.0001)\n",
    "loss = MAE_loss(y_pred, y_train)\n",
    "X_train.numpy().reshape(40,-1)"
   ]
  },
  {
   "cell_type": "code",
   "execution_count": 264,
   "id": "bd43b05a-336d-4a78-acd3-f52fec6f61c5",
   "metadata": {
    "tags": []
   },
   "outputs": [
    {
     "name": "stderr",
     "output_type": "stream",
     "text": [
      "  0%|                                                                                     | 0/1000 [00:00<?, ?it/s]\n"
     ]
    },
    {
     "ename": "ValueError",
     "evalue": "The truth value of an array with more than one element is ambiguous. Use a.any() or a.all()",
     "output_type": "error",
     "traceback": [
      "\u001b[0;31m---------------------------------------------------------------------------\u001b[0m",
      "\u001b[0;31mValueError\u001b[0m                                Traceback (most recent call last)",
      "Cell \u001b[0;32mIn[264], line 1\u001b[0m\n\u001b[0;32m----> 1\u001b[0m \u001b[43mtrain\u001b[49m\u001b[43m(\u001b[49m\u001b[43mmodel_1\u001b[49m\u001b[43m,\u001b[49m\u001b[43m \u001b[49m\u001b[43mX_train\u001b[49m\u001b[38;5;241;43m.\u001b[39;49m\u001b[43mnumpy\u001b[49m\u001b[43m(\u001b[49m\u001b[43m)\u001b[49m\u001b[38;5;241;43m.\u001b[39;49m\u001b[43mreshape\u001b[49m\u001b[43m(\u001b[49m\u001b[38;5;241;43m40\u001b[39;49m\u001b[43m)\u001b[49m\u001b[43m,\u001b[49m\u001b[43m \u001b[49m\u001b[43my_train\u001b[49m\u001b[38;5;241;43m.\u001b[39;49m\u001b[43mnumpy\u001b[49m\u001b[43m(\u001b[49m\u001b[43m)\u001b[49m\u001b[38;5;241;43m.\u001b[39;49m\u001b[43mreshape\u001b[49m\u001b[43m(\u001b[49m\u001b[38;5;241;43m40\u001b[39;49m\u001b[43m)\u001b[49m\u001b[43m,\u001b[49m\u001b[43m \u001b[49m\u001b[43moptimizer\u001b[49m\u001b[43m,\u001b[49m\u001b[43m \u001b[49m\u001b[43msteps\u001b[49m\u001b[38;5;241;43m=\u001b[39;49m\u001b[38;5;241;43m1000\u001b[39;49m\u001b[43m,\u001b[49m\u001b[43m \u001b[49m\u001b[43mlossfn\u001b[49m\u001b[38;5;241;43m=\u001b[39;49m\u001b[43mMAE_loss\u001b[49m\u001b[43m)\u001b[49m\n\u001b[1;32m      2\u001b[0m \u001b[38;5;66;03m#MAE_loss(model_1.forward(X_test),y_train).numpy()\u001b[39;00m\n",
      "File \u001b[0;32m~/git/tinygrad-learning/extra/training.py:28\u001b[0m, in \u001b[0;36mtrain\u001b[0;34m(model, X_train, Y_train, optim, steps, BS, lossfn, transform, target_transform, noloss)\u001b[0m\n\u001b[1;32m     25\u001b[0m \u001b[38;5;66;03m# network\u001b[39;00m\n\u001b[1;32m     26\u001b[0m out \u001b[38;5;241m=\u001b[39m model\u001b[38;5;241m.\u001b[39mforward(x) \u001b[38;5;28;01mif\u001b[39;00m \u001b[38;5;28mhasattr\u001b[39m(model, \u001b[38;5;124m'\u001b[39m\u001b[38;5;124mforward\u001b[39m\u001b[38;5;124m'\u001b[39m) \u001b[38;5;28;01melse\u001b[39;00m model(x)\n\u001b[0;32m---> 28\u001b[0m loss \u001b[38;5;241m=\u001b[39m \u001b[43mlossfn\u001b[49m\u001b[43m(\u001b[49m\u001b[43mout\u001b[49m\u001b[43m,\u001b[49m\u001b[43m \u001b[49m\u001b[43my\u001b[49m\u001b[43m)\u001b[49m\n\u001b[1;32m     29\u001b[0m optim\u001b[38;5;241m.\u001b[39mzero_grad()\n\u001b[1;32m     30\u001b[0m loss\u001b[38;5;241m.\u001b[39mbackward()\n",
      "Cell \u001b[0;32mIn[216], line 2\u001b[0m, in \u001b[0;36mMAE_loss\u001b[0;34m(out, y)\u001b[0m\n\u001b[1;32m      1\u001b[0m \u001b[38;5;28;01mdef\u001b[39;00m \u001b[38;5;21mMAE_loss\u001b[39m(out, y):\n\u001b[0;32m----> 2\u001b[0m     \u001b[38;5;28;01mreturn\u001b[39;00m Tensor\u001b[38;5;241m.\u001b[39mmean(Tensor\u001b[38;5;241m.\u001b[39mabs(\u001b[43mout\u001b[49m\u001b[38;5;241;43m.\u001b[39;49m\u001b[43msub\u001b[49m\u001b[43m(\u001b[49m\u001b[43my\u001b[49m\u001b[43m)\u001b[49m))\n",
      "File \u001b[0;32m~/git/tinygrad-learning/tinygrad/tensor.py:423\u001b[0m, in \u001b[0;36mTensor.sub\u001b[0;34m(self, x, reverse)\u001b[0m\n\u001b[0;32m--> 423\u001b[0m \u001b[38;5;28;01mdef\u001b[39;00m \u001b[38;5;21msub\u001b[39m(\u001b[38;5;28mself\u001b[39m, x:Union[Tensor, \u001b[38;5;28mfloat\u001b[39m], reverse\u001b[38;5;241m=\u001b[39m\u001b[38;5;28;01mFalse\u001b[39;00m) \u001b[38;5;241m-\u001b[39m\u001b[38;5;241m>\u001b[39m Tensor: \u001b[38;5;28;01mreturn\u001b[39;00m \u001b[38;5;28mself\u001b[39m\u001b[38;5;241m.\u001b[39m_broadcasted(mlops\u001b[38;5;241m.\u001b[39mSub, x, reverse) \u001b[38;5;28;01mif\u001b[39;00m \u001b[38;5;28misinstance\u001b[39m(x, Tensor) \u001b[38;5;129;01mor\u001b[39;00m x \u001b[38;5;241m!=\u001b[39m \u001b[38;5;241m0.0\u001b[39m \u001b[38;5;129;01mor\u001b[39;00m reverse \u001b[38;5;28;01melse\u001b[39;00m \u001b[38;5;28mself\u001b[39m\n",
      "\u001b[0;31mValueError\u001b[0m: The truth value of an array with more than one element is ambiguous. Use a.any() or a.all()"
     ]
    }
   ],
   "source": [
    "train(model_1, X_train.numpy().reshape(40), y_train.numpy().reshape(40), optimizer, steps=1000, lossfn=MAE_loss)\n",
    "#MAE_loss(model_1.forward(X_test),y_train).numpy()\n",
    "\n"
   ]
  },
  {
   "cell_type": "code",
   "execution_count": null,
   "id": "4a3f5718-de9a-4cff-a012-1069a4b715e6",
   "metadata": {
    "tags": []
   },
   "outputs": [],
   "source": [
    "X_train"
   ]
  },
  {
   "cell_type": "code",
   "execution_count": null,
   "id": "8e4622ce-99bf-4afe-b4d8-e5179965dfed",
   "metadata": {
    "tags": []
   },
   "outputs": [],
   "source": [
    "evaluate(model_1,X_test.numpy(), y_test.numpy())"
   ]
  },
  {
   "cell_type": "code",
   "execution_count": null,
   "id": "7f3e0542-81c8-4700-bd68-d74428644ba8",
   "metadata": {},
   "outputs": [],
   "source": []
  },
  {
   "cell_type": "code",
   "execution_count": null,
   "id": "a4fdc307-edae-46e9-8651-d919ce57847d",
   "metadata": {},
   "outputs": [],
   "source": []
  },
  {
   "cell_type": "code",
   "execution_count": null,
   "id": "0d5476e2-5aad-42e8-8dc1-9b01a6067b9d",
   "metadata": {},
   "outputs": [],
   "source": []
  },
  {
   "cell_type": "code",
   "execution_count": null,
   "id": "3446fabe-f4be-4ec8-a007-a365a11d680b",
   "metadata": {},
   "outputs": [],
   "source": []
  },
  {
   "cell_type": "code",
   "execution_count": null,
   "id": "cfbb1d36-10a0-4283-b979-24e4cdd3122b",
   "metadata": {},
   "outputs": [],
   "source": []
  },
  {
   "cell_type": "code",
   "execution_count": null,
   "id": "35dea98e-788c-40b6-8be5-dcfcae6a6b84",
   "metadata": {},
   "outputs": [],
   "source": []
  },
  {
   "cell_type": "code",
   "execution_count": null,
   "id": "be1ce2a2-4bfb-413b-982a-3f8ffa8c4763",
   "metadata": {},
   "outputs": [],
   "source": []
  }
 ],
 "metadata": {
  "kernelspec": {
   "display_name": "Python 3 (ipykernel)",
   "language": "python",
   "name": "python3"
  },
  "language_info": {
   "codemirror_mode": {
    "name": "ipython",
    "version": 3
   },
   "file_extension": ".py",
   "mimetype": "text/x-python",
   "name": "python",
   "nbconvert_exporter": "python",
   "pygments_lexer": "ipython3",
   "version": "3.11.3"
  }
 },
 "nbformat": 4,
 "nbformat_minor": 5
}
