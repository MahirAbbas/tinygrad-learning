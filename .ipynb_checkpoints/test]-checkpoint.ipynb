{
 "cells": [
  {
   "cell_type": "code",
   "execution_count": 11,
   "id": "2056a9b5-95a5-4d5d-9239-e7a0fe33f5d4",
   "metadata": {
    "tags": []
   },
   "outputs": [
    {
     "name": "stdout",
     "output_type": "stream",
     "text": [
      "[[0.1419]]\n",
      "[-1.6685]\n"
     ]
    }
   ],
   "source": [
    "import tinygrad\n",
    "import matplotlib.pyplot as plt\n",
    "from tinygrad.tensor import Tensor\n",
    "from tinygrad.nn.optim import SGD\n",
    "from extra.training import train, sparse_categorical_crossentropy\n",
    "import numpy\n",
    "\n",
    "\n",
    "weight = 0.7\n",
    "bias = 0.3\n",
    "\n",
    "X = Tensor.arange(start=0, stop=1, step=0.02).unsqueeze(dim=1)\n",
    "y = weight * X +bias\n",
    "numpy.set_printoptions(precision=4,floatmode=\"fixed\")\n",
    "\n",
    "\n",
    "training_split = int(.8 * len(X.numpy()))\n",
    "training_split\n",
    "X_train, y_train = X[:training_split],y[:training_split]\n",
    "X_test, y_test = X[training_split:],y[training_split:]\n",
    "\n",
    "class LinearRegressionModel:\n",
    "    def __init__(self, input_size):\n",
    "        self.weights = Tensor.randn(input_size, requires_grad=True).reshape(1,-1)\n",
    "        self.bias = Tensor.randn(input_size, requires_grad=True)\n",
    "        \n",
    "    def forward(self, x):\n",
    "        return self.weights * x + self.bias\n",
    "    \n",
    "    \n",
    "Tensor.manual_seed(42)\n",
    "\n",
    "model_0 = LinearRegressionModel(input_size=1)\n",
    "\n",
    "print(model_0.weights.numpy())\n",
    "print(model_0.bias.numpy())\n",
    "\n",
    "optimiser = SGD([model_0.weights, model_0.bias], lr = 0.01)\n",
    "\n",
    "def MAE_loss(y_pred, y_true):\n",
    "    return Tensor.mean(Tensor.abs(y_pred.sub(y_true)))\n",
    "    \n",
    "    \n",
    "from tinygrad.nn.optim import *\n",
    "\n",
    "optim = SGD(get_parameters(model_0), lr=0.01)\n",
    "\n",
    "epochs = 1\n",
    "\n",
    "\n",
    "# 0. loop through data\n",
    "\n",
    "for epoch in range(epochs):\n",
    "    # set model to training mode\n",
    "    #Tensor.training = True\n",
    "    model_0.requires_grad = True\n",
    "    #loss.requires_grad = True\n",
    "    #1. forward pass\n",
    "    y_pred = model_0.forward(X_train)\n",
    "    \n",
    "    #2. calculate loss\n",
    "    loss = MAE_loss(y_pred, y_train)\n",
    "    \n",
    "    #3. optimiser zero grad\n",
    "    optim.zero_grad()\n",
    "    \n",
    "    #4. perforam backpropagtion\n",
    "    loss.backward()\n",
    "    #if noloss: del loss\n",
    "    \n",
    "    #5. perform gradient descent\n",
    "    optimiser.step()\n",
    "    \n",
    "    # turn off gradient tracking\n",
    "    #Tensor.training = False\n",
    "    \n"
   ]
  },
  {
   "cell_type": "code",
   "execution_count": null,
   "id": "1bf377cd-4427-48df-912b-6fc06726fc8c",
   "metadata": {},
   "outputs": [],
   "source": []
  },
  {
   "cell_type": "code",
   "execution_count": null,
   "id": "e594c66e-bf62-478e-9c6f-ba401827c8e0",
   "metadata": {},
   "outputs": [],
   "source": []
  }
 ],
 "metadata": {
  "kernelspec": {
   "display_name": "Python 3 (ipykernel)",
   "language": "python",
   "name": "python3"
  },
  "language_info": {
   "codemirror_mode": {
    "name": "ipython",
    "version": 3
   },
   "file_extension": ".py",
   "mimetype": "text/x-python",
   "name": "python",
   "nbconvert_exporter": "python",
   "pygments_lexer": "ipython3",
   "version": "3.11.3"
  }
 },
 "nbformat": 4,
 "nbformat_minor": 5
}
