{
 "cells": [
  {
   "cell_type": "code",
   "execution_count": 2,
   "id": "92fe0725-3e7f-4592-9a49-5fc7af546fac",
   "metadata": {
    "tags": []
   },
   "outputs": [],
   "source": [
    "from tinygrad.tensor import Tensor"
   ]
  },
  {
   "cell_type": "code",
   "execution_count": 11,
   "id": "4f21b530-6fea-48ef-8fe9-67bd0f4081d3",
   "metadata": {
    "tags": []
   },
   "outputs": [
    {
     "name": "stdout",
     "output_type": "stream",
     "text": [
      "[[-1.0861901  -0.7100657   0.10892726 -0.42032743]\n",
      " [-0.74295604 -0.47970706  0.09193401 -1.0196065 ]\n",
      " [ 1.1457659  -0.90793175  0.787779    0.14663427]\n",
      " [-0.10072129  1.736504    0.6949537   0.02582742]]\n"
     ]
    }
   ],
   "source": [
    "print(Tensor.randn(4,4).numpy())\n"
   ]
  },
  {
   "cell_type": "code",
   "execution_count": 8,
   "id": "c6b40eea-0442-4758-a24f-522624a72b8d",
   "metadata": {
    "tags": []
   },
   "outputs": [
    {
     "name": "stdout",
     "output_type": "stream",
     "text": [
      "[[0.33907223 0.9264128  0.31556112 0.04879391]\n",
      " [0.7784997  0.84878963 0.38173735 0.8892148 ]\n",
      " [0.74306494 0.05799264 0.66607714 0.60116947]\n",
      " [0.01253456 0.23078996 0.71964    0.3291924 ]]\n"
     ]
    }
   ],
   "source": [
    "print(Tensor.rand(4,4).numpy())\n"
   ]
  },
  {
   "cell_type": "code",
   "execution_count": null,
   "id": "e2710082-6813-48f6-9ced-84d910d56c00",
   "metadata": {},
   "outputs": [],
   "source": []
  }
 ],
 "metadata": {
  "kernelspec": {
   "display_name": "Python 3 (ipykernel)",
   "language": "python",
   "name": "python3"
  },
  "language_info": {
   "codemirror_mode": {
    "name": "ipython",
    "version": 3
   },
   "file_extension": ".py",
   "mimetype": "text/x-python",
   "name": "python",
   "nbconvert_exporter": "python",
   "pygments_lexer": "ipython3",
   "version": "3.11.3"
  }
 },
 "nbformat": 4,
 "nbformat_minor": 5
}
