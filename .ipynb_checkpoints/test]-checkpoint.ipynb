{
 "cells": [
  {
   "cell_type": "code",
   "execution_count": null,
   "id": "1a0e957e-bc29-46ca-a9fe-5761ec189d11",
   "metadata": {
    "tags": []
   },
   "outputs": [],
   "source": []
  },
  {
   "cell_type": "code",
   "execution_count": 2,
   "id": "2056a9b5-95a5-4d5d-9239-e7a0fe33f5d4",
   "metadata": {
    "tags": []
   },
   "outputs": [],
   "source": [
    "from tinygrad.tensor import Tensor\n",
    "from tinygrad.jit import TinyJit\n",
    "from tinygrad.nn import optim\n",
    "from datasets import fetch_mnist\n",
    "from extra.training import train"
   ]
  },
  {
   "cell_type": "code",
   "execution_count": 4,
   "id": "1bf377cd-4427-48df-912b-6fc06726fc8c",
   "metadata": {},
   "outputs": [],
   "source": [
    "class TinyBobNet:\n",
    "    def __init__(self):\n",
    "        self.l1 = Tensor.scaled_uniform(784, 128)\n",
    "        self.l2 = Tensor.scaled_uniform(128, 10)\n",
    "     \n",
    "    @TinyJit\n",
    "    def __call__(self, x:Tensor) -> Tensor:\n",
    "        return x.dot(self.l1).relu().dot(self.l2).log_softmax().realize()\n",
    " \n",
    "\n",
    "\n",
    "\n"
   ]
  },
  {
   "cell_type": "code",
   "execution_count": 5,
   "id": "e594c66e-bf62-478e-9c6f-ba401827c8e0",
   "metadata": {},
   "outputs": [
    {
     "name": "stderr",
     "output_type": "stream",
     "text": [
      "loss 0.14 accuracy 0.95: 100%|█████████████████████████████████████████████████████████████████████████████████████████████████████████████████████████████████████████████████████████████████████████| 1000/1000 [00:10<00:00, 93.65it/s]\n"
     ]
    }
   ],
   "source": [
    "model = TinyBobNet()\n",
    "optimizer = optim.SGD(optim.get_parameters(model), lr=0.001)\n",
    "X_train, Y_train, X_test, Y_test = fetch_mnist()\n",
    "\n",
    "train(model, X_train, Y_train, optimizer, 1000)\n"
   ]
  },
  {
   "cell_type": "code",
   "execution_count": null,
   "id": "bb5dd384-d6f8-4116-8132-9057f0f47489",
   "metadata": {},
   "outputs": [],
   "source": []
  }
 ],
 "metadata": {
  "kernelspec": {
   "display_name": "Python 3 (ipykernel)",
   "language": "python",
   "name": "python3"
  },
  "language_info": {
   "codemirror_mode": {
    "name": "ipython",
    "version": 3
   },
   "file_extension": ".py",
   "mimetype": "text/x-python",
   "name": "python",
   "nbconvert_exporter": "python",
   "pygments_lexer": "ipython3",
   "version": "3.11.3"
  }
 },
 "nbformat": 4,
 "nbformat_minor": 5
}
