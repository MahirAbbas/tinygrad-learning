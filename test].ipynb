{
 "cells": [
  {
   "cell_type": "code",
   "execution_count": 4,
   "id": "f279e3bc-68a8-4875-ad2b-bef8b7733e1b",
   "metadata": {
    "tags": []
   },
   "outputs": [
    {
     "name": "stdout",
     "output_type": "stream",
     "text": [
      "Error: 0.0\n",
      "Execution time: 0.00180 seconds\n"
     ]
    },
    {
     "name": "stderr",
     "output_type": "stream",
     "text": [
      "/home/mahir/.local/lib/python3.11/site-packages/pyopencl/__init__.py:268: CompilerWarning: From-source build succeeded, but resulted in non-empty logs:\n",
      "Build on <pyopencl.Device 'gfx1032' on 'AMD Accelerated Parallel Processing' at 0x5598d2d96380> succeeded, but said:\n",
      "\n",
      "warning: argument unused during compilation: '-I /home/mahir/.local/lib/python3.11/site-packages/pyopencl/cl' [-Wunused-command-line-argument]\n",
      "1 warning generated.\n",
      "\n",
      "  warn(text, CompilerWarning)\n"
     ]
    }
   ],
   "source": [
    "import pyopencl as cl\n",
    "import numpy as np\n",
    "import time\n",
    "\n",
    "# Set up OpenCL context and command queue\n",
    "ctx = cl.create_some_context()\n",
    "queue = cl.CommandQueue(ctx)\n",
    "\n",
    "# Set array size and create random data for input arrays\n",
    "array_size = 10**7\n",
    "a_np = np.random.rand(array_size).astype(np.float32)\n",
    "b_np = np.random.rand(array_size).astype(np.float32)\n",
    "\n",
    "# Create OpenCL buffers for input and output arrays\n",
    "a_g = cl.Buffer(ctx, cl.mem_flags.READ_ONLY, a_np.nbytes)\n",
    "b_g = cl.Buffer(ctx, cl.mem_flags.READ_ONLY, b_np.nbytes)\n",
    "c_g = cl.Buffer(ctx, cl.mem_flags.WRITE_ONLY, a_np.nbytes)\n",
    "\n",
    "# Copy data to the device (GPU) memory\n",
    "cl.enqueue_copy(queue, a_g, a_np)\n",
    "cl.enqueue_copy(queue, b_g, b_np)\n",
    "\n",
    "# Define OpenCL kernel code for element-wise vector addition\n",
    "kernel_code = \"\"\"\n",
    "__kernel void vector_add(__global const float *a,\n",
    "                          __global const float *b,\n",
    "                          __global float *c)\n",
    "{\n",
    "    int gid = get_global_id(0);\n",
    "    c[gid] = a[gid] + b[gid];\n",
    "}\n",
    "\"\"\"\n",
    "\n",
    "# Compile kernel code\n",
    "prg = cl.Program(ctx, kernel_code).build()\n",
    "\n",
    "# Set up and run kernel\n",
    "global_size = (array_size,)\n",
    "local_size = None\n",
    "kernel_args = (a_g, b_g, c_g)\n",
    "t1 = time.time()\n",
    "event = prg.vector_add(queue, global_size, local_size, *kernel_args)\n",
    "event.wait()\n",
    "t2 = time.time()\n",
    "\n",
    "# Copy result from GPU memory back to host memory\n",
    "c_np = np.empty_like(a_np)\n",
    "cl.enqueue_copy(queue, c_np, c_g)\n",
    "\n",
    "# Check the result and compute the error\n",
    "error = np.abs(c_np - (a_np + b_np)).max()\n",
    "print(\"Error: {}\".format(error))\n",
    "\n",
    "# Print the execution time\n",
    "print(\"Execution time: {:.5f} seconds\".format(t2 - t1))\n"
   ]
  },
  {
   "cell_type": "code",
   "execution_count": 5,
   "id": "f2be4817-5a2a-4914-adc3-d51e37198e00",
   "metadata": {
    "tags": []
   },
   "outputs": [],
   "source": [
    "import pyopencl as cl\n"
   ]
  },
  {
   "cell_type": "code",
   "execution_count": 6,
   "id": "cb885f56-48e1-4aa0-b838-8da0ac548b3e",
   "metadata": {
    "tags": []
   },
   "outputs": [],
   "source": [
    "platforms = cl.get_platforms()\n"
   ]
  },
  {
   "cell_type": "code",
   "execution_count": 7,
   "id": "3de61241-0746-45f9-a84c-817565661777",
   "metadata": {
    "tags": []
   },
   "outputs": [
    {
     "name": "stdout",
     "output_type": "stream",
     "text": [
      "Platform: AMD Accelerated Parallel Processing, Device: gfx1032\n"
     ]
    }
   ],
   "source": [
    "for platform in platforms:\n",
    "    devices = platform.get_devices()\n",
    "    for device in devices:\n",
    "        print(\"Platform: {}, Device: {}\".format(platform.name, device.name))\n"
   ]
  },
  {
   "cell_type": "code",
   "execution_count": null,
   "id": "566b9e12-c3ba-44c9-810f-52862ea20317",
   "metadata": {},
   "outputs": [],
   "source": []
  }
 ],
 "metadata": {
  "kernelspec": {
   "display_name": "Python 3 (ipykernel)",
   "language": "python",
   "name": "python3"
  },
  "language_info": {
   "codemirror_mode": {
    "name": "ipython",
    "version": 3
   },
   "file_extension": ".py",
   "mimetype": "text/x-python",
   "name": "python",
   "nbconvert_exporter": "python",
   "pygments_lexer": "ipython3",
   "version": "3.11.3"
  }
 },
 "nbformat": 4,
 "nbformat_minor": 5
}
