{
 "cells": [
  {
   "cell_type": "code",
   "execution_count": 12,
   "id": "2056a9b5-95a5-4d5d-9239-e7a0fe33f5d4",
   "metadata": {
    "tags": []
   },
   "outputs": [
    {
     "name": "stdout",
     "output_type": "stream",
     "text": [
      "[[0.1419]]\n",
      "[-1.6685]\n"
     ]
    }
   ],
   "source": [
    "import tinygrad\n",
    "import matplotlib.pyplot as plt\n",
    "from tinygrad.tensor import Tensor\n",
    "from tinygrad.nn.optim import SGD\n",
    "from extra.training import train, sparse_categorical_crossentropy\n",
    "import numpy\n",
    "\n",
    "\n",
    "weight = 0.7\n",
    "bias = 0.3\n",
    "\n",
    "X = Tensor.arange(start=0, stop=1, step=0.02).unsqueeze(dim=1)\n",
    "y = weight * X +bias\n",
    "numpy.set_printoptions(precision=4,floatmode=\"fixed\")\n",
    "\n",
    "\n",
    "training_split = int(.8 * len(X.numpy()))\n",
    "training_split\n",
    "X_train, y_train = X[:training_split],y[:training_split]\n",
    "X_test, y_test = X[training_split:],y[training_split:]\n",
    "\n",
    "class LinearRegressionModel:\n",
    "    def __init__(self, input_size):\n",
    "        self.weights = Tensor.randn(input_size, requires_grad=True).reshape(1,-1)\n",
    "        self.bias = Tensor.randn(input_size, requires_grad=True)\n",
    "        \n",
    "    def forward(self, x):\n",
    "        return self.weights * x + self.bias\n",
    "    \n",
    "    \n",
    "Tensor.manual_seed(42)\n",
    "\n",
    "model_0 = LinearRegressionModel(input_size=1)\n",
    "\n",
    "print(model_0.weights.numpy())\n",
    "print(model_0.bias.numpy())\n",
    "\n",
    "optimiser = SGD([model_0.weights, model_0.bias], lr = 0.01)\n",
    "\n",
    "def MAE_loss(y_pred, y_true):\n",
    "    return Tensor.mean(Tensor.abs(y_pred.sub(y_true)))\n",
    "    \n",
    "    \n",
    "from tinygrad.nn.optim import *\n",
    "\n",
    "optim = SGD(get_parameters(model_0), lr=0.01)\n",
    "\n"
   ]
  },
  {
   "cell_type": "code",
   "execution_count": 13,
   "id": "1bf377cd-4427-48df-912b-6fc06726fc8c",
   "metadata": {},
   "outputs": [
    {
     "ename": "AttributeError",
     "evalue": "'Tensor' object has no attribute '_ctx'",
     "output_type": "error",
     "traceback": [
      "\u001b[0;31m---------------------------------------------------------------------------\u001b[0m",
      "\u001b[0;31mAttributeError\u001b[0m                            Traceback (most recent call last)",
      "Cell \u001b[0;32mIn[13], line 21\u001b[0m\n\u001b[1;32m     18\u001b[0m optim\u001b[38;5;241m.\u001b[39mzero_grad()\n\u001b[1;32m     20\u001b[0m \u001b[38;5;66;03m#4. perforam backpropagtion\u001b[39;00m\n\u001b[0;32m---> 21\u001b[0m \u001b[43mloss\u001b[49m\u001b[38;5;241;43m.\u001b[39;49m\u001b[43mbackward\u001b[49m\u001b[43m(\u001b[49m\u001b[43m)\u001b[49m\n\u001b[1;32m     22\u001b[0m \u001b[38;5;66;03m#if noloss: del loss\u001b[39;00m\n\u001b[1;32m     23\u001b[0m \n\u001b[1;32m     24\u001b[0m \u001b[38;5;66;03m#5. perform gradient descent\u001b[39;00m\n\u001b[1;32m     25\u001b[0m optimiser\u001b[38;5;241m.\u001b[39mstep()\n",
      "File \u001b[0;32m~/git/tinygrad-learning/tinygrad/tensor.py:192\u001b[0m, in \u001b[0;36mTensor.backward\u001b[0;34m(self)\u001b[0m\n\u001b[1;32m    188\u001b[0m \u001b[38;5;66;03m# fill in the first grad with one. don't use Tensor.ones because we don't need contiguous\u001b[39;00m\n\u001b[1;32m    189\u001b[0m \u001b[38;5;66;03m# this is \"implicit gradient creation\"\u001b[39;00m\n\u001b[1;32m    190\u001b[0m \u001b[38;5;28mself\u001b[39m\u001b[38;5;241m.\u001b[39mgrad \u001b[38;5;241m=\u001b[39m Tensor([\u001b[38;5;241m1\u001b[39m], device\u001b[38;5;241m=\u001b[39m\u001b[38;5;28mself\u001b[39m\u001b[38;5;241m.\u001b[39mdevice, requires_grad\u001b[38;5;241m=\u001b[39m\u001b[38;5;28;01mFalse\u001b[39;00m)\n\u001b[0;32m--> 192\u001b[0m \u001b[38;5;28;01mfor\u001b[39;00m t0 \u001b[38;5;129;01min\u001b[39;00m \u001b[38;5;28mreversed\u001b[39m(\u001b[38;5;28;43mself\u001b[39;49m\u001b[38;5;241;43m.\u001b[39;49m\u001b[43mdeepwalk\u001b[49m\u001b[43m(\u001b[49m\u001b[43m)\u001b[49m):\n\u001b[1;32m    193\u001b[0m   \u001b[38;5;28;01mif\u001b[39;00m \u001b[38;5;129;01mnot\u001b[39;00m \u001b[38;5;28many\u001b[39m(x\u001b[38;5;241m.\u001b[39mrequires_grad \u001b[38;5;28;01mfor\u001b[39;00m x \u001b[38;5;129;01min\u001b[39;00m t0\u001b[38;5;241m.\u001b[39m_ctx\u001b[38;5;241m.\u001b[39mparents):\n\u001b[1;32m    194\u001b[0m     \u001b[38;5;28;01mdel\u001b[39;00m t0\u001b[38;5;241m.\u001b[39m_ctx  \u001b[38;5;66;03m# TODO: does it help to delete this here ever?\u001b[39;00m\n",
      "File \u001b[0;32m~/git/tinygrad-learning/tinygrad/tensor.py:183\u001b[0m, in \u001b[0;36mTensor.deepwalk\u001b[0;34m(self)\u001b[0m\n\u001b[1;32m    181\u001b[0m     nodes\u001b[38;5;241m.\u001b[39mappend(node)\n\u001b[1;32m    182\u001b[0m   \u001b[38;5;28;01mreturn\u001b[39;00m nodes\n\u001b[0;32m--> 183\u001b[0m \u001b[38;5;28;01mreturn\u001b[39;00m \u001b[43m_deepwalk\u001b[49m\u001b[43m(\u001b[49m\u001b[38;5;28;43mself\u001b[39;49m\u001b[43m,\u001b[49m\u001b[43m \u001b[49m\u001b[38;5;28;43mset\u001b[39;49m\u001b[43m(\u001b[49m\u001b[43m)\u001b[49m\u001b[43m,\u001b[49m\u001b[43m \u001b[49m\u001b[43m[\u001b[49m\u001b[43m]\u001b[49m\u001b[43m)\u001b[49m\n",
      "File \u001b[0;32m~/git/tinygrad-learning/tinygrad/tensor.py:180\u001b[0m, in \u001b[0;36mTensor.deepwalk.<locals>._deepwalk\u001b[0;34m(node, visited, nodes)\u001b[0m\n\u001b[1;32m    178\u001b[0m \u001b[38;5;28;01mif\u001b[39;00m node\u001b[38;5;241m.\u001b[39m_ctx:\n\u001b[1;32m    179\u001b[0m   \u001b[38;5;28;01mfor\u001b[39;00m i \u001b[38;5;129;01min\u001b[39;00m node\u001b[38;5;241m.\u001b[39m_ctx\u001b[38;5;241m.\u001b[39mparents:\n\u001b[0;32m--> 180\u001b[0m     \u001b[38;5;28;01mif\u001b[39;00m i \u001b[38;5;129;01mnot\u001b[39;00m \u001b[38;5;129;01min\u001b[39;00m visited: \u001b[43m_deepwalk\u001b[49m\u001b[43m(\u001b[49m\u001b[43mi\u001b[49m\u001b[43m,\u001b[49m\u001b[43m \u001b[49m\u001b[43mvisited\u001b[49m\u001b[43m,\u001b[49m\u001b[43m \u001b[49m\u001b[43mnodes\u001b[49m\u001b[43m)\u001b[49m\n\u001b[1;32m    181\u001b[0m   nodes\u001b[38;5;241m.\u001b[39mappend(node)\n\u001b[1;32m    182\u001b[0m \u001b[38;5;28;01mreturn\u001b[39;00m nodes\n",
      "File \u001b[0;32m~/git/tinygrad-learning/tinygrad/tensor.py:180\u001b[0m, in \u001b[0;36mTensor.deepwalk.<locals>._deepwalk\u001b[0;34m(node, visited, nodes)\u001b[0m\n\u001b[1;32m    178\u001b[0m \u001b[38;5;28;01mif\u001b[39;00m node\u001b[38;5;241m.\u001b[39m_ctx:\n\u001b[1;32m    179\u001b[0m   \u001b[38;5;28;01mfor\u001b[39;00m i \u001b[38;5;129;01min\u001b[39;00m node\u001b[38;5;241m.\u001b[39m_ctx\u001b[38;5;241m.\u001b[39mparents:\n\u001b[0;32m--> 180\u001b[0m     \u001b[38;5;28;01mif\u001b[39;00m i \u001b[38;5;129;01mnot\u001b[39;00m \u001b[38;5;129;01min\u001b[39;00m visited: \u001b[43m_deepwalk\u001b[49m\u001b[43m(\u001b[49m\u001b[43mi\u001b[49m\u001b[43m,\u001b[49m\u001b[43m \u001b[49m\u001b[43mvisited\u001b[49m\u001b[43m,\u001b[49m\u001b[43m \u001b[49m\u001b[43mnodes\u001b[49m\u001b[43m)\u001b[49m\n\u001b[1;32m    181\u001b[0m   nodes\u001b[38;5;241m.\u001b[39mappend(node)\n\u001b[1;32m    182\u001b[0m \u001b[38;5;28;01mreturn\u001b[39;00m nodes\n",
      "    \u001b[0;31m[... skipping similar frames: Tensor.deepwalk.<locals>._deepwalk at line 180 (15 times)]\u001b[0m\n",
      "File \u001b[0;32m~/git/tinygrad-learning/tinygrad/tensor.py:180\u001b[0m, in \u001b[0;36mTensor.deepwalk.<locals>._deepwalk\u001b[0;34m(node, visited, nodes)\u001b[0m\n\u001b[1;32m    178\u001b[0m \u001b[38;5;28;01mif\u001b[39;00m node\u001b[38;5;241m.\u001b[39m_ctx:\n\u001b[1;32m    179\u001b[0m   \u001b[38;5;28;01mfor\u001b[39;00m i \u001b[38;5;129;01min\u001b[39;00m node\u001b[38;5;241m.\u001b[39m_ctx\u001b[38;5;241m.\u001b[39mparents:\n\u001b[0;32m--> 180\u001b[0m     \u001b[38;5;28;01mif\u001b[39;00m i \u001b[38;5;129;01mnot\u001b[39;00m \u001b[38;5;129;01min\u001b[39;00m visited: \u001b[43m_deepwalk\u001b[49m\u001b[43m(\u001b[49m\u001b[43mi\u001b[49m\u001b[43m,\u001b[49m\u001b[43m \u001b[49m\u001b[43mvisited\u001b[49m\u001b[43m,\u001b[49m\u001b[43m \u001b[49m\u001b[43mnodes\u001b[49m\u001b[43m)\u001b[49m\n\u001b[1;32m    181\u001b[0m   nodes\u001b[38;5;241m.\u001b[39mappend(node)\n\u001b[1;32m    182\u001b[0m \u001b[38;5;28;01mreturn\u001b[39;00m nodes\n",
      "File \u001b[0;32m~/git/tinygrad-learning/tinygrad/tensor.py:178\u001b[0m, in \u001b[0;36mTensor.deepwalk.<locals>._deepwalk\u001b[0;34m(node, visited, nodes)\u001b[0m\n\u001b[1;32m    176\u001b[0m \u001b[38;5;28;01mdef\u001b[39;00m \u001b[38;5;21m_deepwalk\u001b[39m(node, visited, nodes):\n\u001b[1;32m    177\u001b[0m   visited\u001b[38;5;241m.\u001b[39madd(node)\n\u001b[0;32m--> 178\u001b[0m   \u001b[38;5;28;01mif\u001b[39;00m \u001b[43mnode\u001b[49m\u001b[38;5;241;43m.\u001b[39;49m\u001b[43m_ctx\u001b[49m:\n\u001b[1;32m    179\u001b[0m     \u001b[38;5;28;01mfor\u001b[39;00m i \u001b[38;5;129;01min\u001b[39;00m node\u001b[38;5;241m.\u001b[39m_ctx\u001b[38;5;241m.\u001b[39mparents:\n\u001b[1;32m    180\u001b[0m       \u001b[38;5;28;01mif\u001b[39;00m i \u001b[38;5;129;01mnot\u001b[39;00m \u001b[38;5;129;01min\u001b[39;00m visited: _deepwalk(i, visited, nodes)\n",
      "\u001b[0;31mAttributeError\u001b[0m: 'Tensor' object has no attribute '_ctx'"
     ]
    }
   ],
   "source": [
    "epochs = 1\n",
    "\n",
    "\n",
    "# 0. loop through data\n",
    "\n",
    "for epoch in range(epochs):\n",
    "    # set model to training mode\n",
    "    #Tensor.training = True\n",
    "    model_0.requires_grad = True\n",
    "    #loss.requires_grad = True\n",
    "    #1. forward pass\n",
    "    y_pred = model_0.forward(X_train)\n",
    "    \n",
    "    #2. calculate loss\n",
    "    loss = MAE_loss(y_pred, y_train)\n",
    "    \n",
    "    #3. optimiser zero grad\n",
    "    optim.zero_grad()\n",
    "    \n",
    "    #4. perforam backpropagtion\n",
    "    loss.backward()\n",
    "    #if noloss: del loss\n",
    "    \n",
    "    #5. perform gradient descent\n",
    "    optimiser.step()\n",
    "    \n",
    "    # turn off gradient tracking\n",
    "    #Tensor.training = False\n",
    "    \n"
   ]
  },
  {
   "cell_type": "code",
   "execution_count": null,
   "id": "e594c66e-bf62-478e-9c6f-ba401827c8e0",
   "metadata": {},
   "outputs": [],
   "source": []
  }
 ],
 "metadata": {
  "kernelspec": {
   "display_name": "Python 3 (ipykernel)",
   "language": "python",
   "name": "python3"
  },
  "language_info": {
   "codemirror_mode": {
    "name": "ipython",
    "version": 3
   },
   "file_extension": ".py",
   "mimetype": "text/x-python",
   "name": "python",
   "nbconvert_exporter": "python",
   "pygments_lexer": "ipython3",
   "version": "3.11.3"
  }
 },
 "nbformat": 4,
 "nbformat_minor": 5
}
