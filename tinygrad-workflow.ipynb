{
 "cells": [
  {
   "cell_type": "markdown",
   "id": "6bd1ae52-765a-4a1f-a5c0-15d19e4aee9c",
   "metadata": {},
   "source": [
    "# rought outline of workflow"
   ]
  },
  {
   "cell_type": "markdown",
   "id": "c8009c2b-6ac2-43e6-975c-60bf13c3376a",
   "metadata": {},
   "source": [
    "1. Get data ready (turn into tensors)\n",
    "2. Build or pick a pretrained model\n",
    "2.1. Pick a loss function & optimiser\n",
    "2.2. Build a training loop\n",
    "3. Fit the model to the data\n",
    "4. Evaluae teh mode;\n",
    "5. Improve the model\n",
    "6. Save and reload the model\n",
    "\n"
   ]
  },
  {
   "cell_type": "code",
   "execution_count": 25,
   "id": "90a62c8b-441c-48a2-8ce8-35a1d0455591",
   "metadata": {
    "tags": []
   },
   "outputs": [],
   "source": [
    "import tinygrad\n",
    "import matplotlib.pyplot as plt\n",
    "from tinygrad.tensor import Tensor\n",
    "from tinygrad.nn.optim import SGD\n",
    "from extra.training import train, sparse_categorical_crossentropy\n",
    "import numpy\n"
   ]
  },
  {
   "cell_type": "markdown",
   "id": "8da851a2-0a2b-41c6-908a-36705a5701e5",
   "metadata": {},
   "source": [
    "## 1. Data (preparing and loading)"
   ]
  },
  {
   "cell_type": "markdown",
   "id": "811e3151-d2c6-40a7-a72c-e6e9ac9634b0",
   "metadata": {},
   "source": [
    "### example with known paramater"
   ]
  },
  {
   "cell_type": "code",
   "execution_count": 26,
   "id": "7f7325f9-5789-4fac-ae2b-b4dc080d5edd",
   "metadata": {
    "tags": []
   },
   "outputs": [],
   "source": [
    "weight = 0.7\n",
    "bias = 0.3\n",
    "\n",
    "\n",
    "X = Tensor.arange(start=0, stop=1, step=0.02).unsqueeze(dim=1)\n",
    "y = weight * X +bias\n",
    "numpy.set_printoptions(precision=4,floatmode=\"fixed\")\n",
    "#print(X[:20].numpy())\n",
    "#print(X[:20].numpy().dtype)"
   ]
  },
  {
   "cell_type": "markdown",
   "id": "89ec512a-8f9a-4da6-b42f-6866cfa58e51",
   "metadata": {},
   "source": [
    "## Split data into trainnig and test sets"
   ]
  },
  {
   "cell_type": "code",
   "execution_count": 27,
   "id": "4e4b0ee9-06d0-4fdb-8a5b-42e1b373cf44",
   "metadata": {
    "tags": []
   },
   "outputs": [],
   "source": [
    "training_split = int(.8 * len(X.numpy()))\n",
    "training_split\n",
    "X_train, y_train = X[:training_split],y[:training_split]\n",
    "X_test, y_test = X[training_split:],y[training_split:]\n",
    "#print(X_test.numpy())"
   ]
  },
  {
   "cell_type": "code",
   "execution_count": 28,
   "id": "d9102b24-fcc5-4273-963e-191c2bfd8120",
   "metadata": {
    "tags": []
   },
   "outputs": [],
   "source": [
    "#len(X_train.numpy()), len(y_train.numpy()), len(X_test.numpy()), len(y_test.numpy())"
   ]
  },
  {
   "cell_type": "markdown",
   "id": "89d6a841-66ed-471d-8b60-8aa452ffec7f",
   "metadata": {
    "tags": []
   },
   "source": [
    "# matplotlib"
   ]
  },
  {
   "cell_type": "code",
   "execution_count": 29,
   "id": "24bef94b-dab9-4c0b-b45b-f1d7f1f5969f",
   "metadata": {
    "tags": []
   },
   "outputs": [],
   "source": [
    "def plot_predictions(train_data=X_train.numpy(), \n",
    "                     train_labels=y_train.numpy(), \n",
    "                     test_data=X_test.numpy(),\n",
    "                     test_labels=y_test.numpy(),\n",
    "                     predictions=None):\n",
    "    plt.figure(figsize=(10,7))\n",
    "    plt.scatter(train_data, train_labels, c=\"b\", s=4, label=\"Training data\")\n",
    "    plt.scatter(test_data, test_labels, c=\"g\", s=4, label=\"Testing data\")\n",
    "    if predictions is not None:\n",
    "        plt.scatter(test_data, predictions.numpy(), c=\"r\", s=4, label=\"Predictions\")\n",
    "        \n",
    "    plt.legend(prop={\"size\":14});"
   ]
  },
  {
   "cell_type": "code",
   "execution_count": 30,
   "id": "518abfb1-759a-4b56-bf78-1b179e8df411",
   "metadata": {
    "tags": []
   },
   "outputs": [
    {
     "data": {
      "image/png": "[encoded data removed]",
      "text/plain": [
       "<Figure size 1000x700 with 1 Axes>"
      ]
     },
     "metadata": {},
     "output_type": "display_data"
    }
   ],
   "source": [
    "plot_predictions();"
   ]
  },
  {
   "cell_type": "markdown",
   "id": "f28d3837-e6d5-4e9a-a35a-af5075061781",
   "metadata": {},
   "source": [
    "# linear regression model"
   ]
  },
  {
   "cell_type": "code",
   "execution_count": 31,
   "id": "811d8caf-9769-4459-8190-87e5a7513490",
   "metadata": {
    "tags": []
   },
   "outputs": [],
   "source": [
    "class LinearRegressionModel:\n",
    "    def __init__(self, input_size):\n",
    "        self.weights = Tensor.randn(input_size).reshape(1,-1)\n",
    "        self.bias = Tensor.randn(input_size )\n",
    "        \n",
    "    def forward(self, x):\n",
    "        return self.weights * x + self.bias\n",
    "    "
   ]
  },
  {
   "cell_type": "markdown",
   "id": "c754d33e-2706-44b6-8dc8-f033983e9b3e",
   "metadata": {},
   "source": [
    "###  Cheat Sheet\n",
    "https://pytorch.org/tutorials/beginner/ptcheat.html\n"
   ]
  },
  {
   "cell_type": "code",
   "execution_count": 32,
   "id": "bb44d30e-0015-4d7f-8860-08801431641b",
   "metadata": {
    "tags": []
   },
   "outputs": [
    {
     "name": "stdout",
     "output_type": "stream",
     "text": [
      "[[0.1419]]\n",
      "[-1.6685]\n"
     ]
    }
   ],
   "source": [
    "#numpy.random.seed(42)\n",
    "Tensor.manual_seed(42)\n",
    "\n",
    "model_0 = LinearRegressionModel(input_size=1)\n",
    "\n",
    "print(model_0.weights.numpy())\n",
    "print(model_0.bias.numpy())"
   ]
  },
  {
   "cell_type": "code",
   "execution_count": 33,
   "id": "d23d0e42-3c63-499d-b519-8bd64bc9e2f0",
   "metadata": {
    "tags": []
   },
   "outputs": [
    {
     "data": {
      "text/plain": [
       "array([-1.3321,  0.5826,  0.3740,  1.7554,  0.1396], dtype=float32)"
      ]
     },
     "execution_count": 33,
     "metadata": {},
     "output_type": "execute_result"
    }
   ],
   "source": [
    "Tensor.randn(5).numpy()"
   ]
  },
  {
   "cell_type": "code",
   "execution_count": 34,
   "id": "72c72b63-b506-4a5e-a0b1-ab7c48c92f5d",
   "metadata": {
    "tags": []
   },
   "outputs": [
    {
     "name": "stdout",
     "output_type": "stream",
     "text": [
      "(10, 1)\n"
     ]
    }
   ],
   "source": [
    "X = numpy.random.randn(100, 1).astype(numpy.float32)\n",
    "#print(model_0.weights.shape)\n",
    "\n",
    "\n",
    "#X_test_tensor = Tensor(X).reshape(1,-1)\n",
    "X_test_tensor = X_test\n",
    "#print(X_test_tensor[1].shape)\n",
    "#print(X_test_tensor[0].numpy())\n",
    "#print(X_test_tensor[1].numpy())\n",
    "#print(X_test_tensor.numpy())\n",
    "#model_0.weights.dot(X_test_tensor[0])\n",
    "#print(X_test_tensor.shape)\n",
    "print(X_test.shape)"
   ]
  },
  {
   "cell_type": "code",
   "execution_count": 35,
   "id": "a4f66e1f-c8c9-4e68-95c2-50f09a449ea7",
   "metadata": {
    "tags": []
   },
   "outputs": [],
   "source": [
    "#print(X_test)\n",
    "#print(model_0.weights.shape)"
   ]
  },
  {
   "cell_type": "code",
   "execution_count": 86,
   "id": "eec427e7-7108-4f9c-8cb8-c5ce06760601",
   "metadata": {
    "tags": []
   },
   "outputs": [],
   "source": [
    "optimiser = SGD([model_0.weights, model_0.bias], lr = 0.01)\n",
    "for value in X_test:\n",
    "    #print(value)\n",
    "    y_preds = model_0.forward(value)\n",
    "    \n",
    "y_predictions = model_0.forward(X_test)"
   ]
  },
  {
   "cell_type": "code",
   "execution_count": 87,
   "id": "347d4620-ff83-4b5a-a382-c31d44699ea3",
   "metadata": {
    "tags": []
   },
   "outputs": [
    {
     "name": "stdout",
     "output_type": "stream",
     "text": [
      "[[0.9787]]\n",
      "[[0.8525]\n",
      " [0.8666]\n",
      " [0.8806]\n",
      " [0.8946]\n",
      " [0.9086]\n",
      " [0.9226]\n",
      " [0.9366]\n",
      " [0.9506]\n",
      " [0.9647]\n",
      " [0.9787]]\n"
     ]
    },
    {
     "name": "stderr",
     "output_type": "stream",
     "text": [
      "/home/mahir/.local/lib/python3.11/site-packages/pyopencl/__init__.py:270: CompilerWarning: Non-empty compiler output encountered. Set the environment variable PYOPENCL_COMPILER_OUTPUT=1 to see more.\n",
      "  warn(\"Non-empty compiler output encountered. Set the \"\n"
     ]
    }
   ],
   "source": [
    "print(y_preds.numpy())\n",
    "print(y_predictions.numpy())"
   ]
  },
  {
   "cell_type": "code",
   "execution_count": 88,
   "id": "1fe8d6fd-a913-446c-b49b-501c55b1d2e2",
   "metadata": {
    "tags": []
   },
   "outputs": [],
   "source": [
    "#print(X_test.numpy())"
   ]
  },
  {
   "cell_type": "code",
   "execution_count": 89,
   "id": "b34fc327-a0ca-4543-a4e9-5d9f58f5526c",
   "metadata": {
    "tags": []
   },
   "outputs": [],
   "source": [
    "#print(y_test.numpy())"
   ]
  },
  {
   "cell_type": "code",
   "execution_count": 90,
   "id": "90b472e8-8d9b-4a78-8516-eedca1667fe5",
   "metadata": {
    "tags": []
   },
   "outputs": [
    {
     "data": {
      "image/png": "[encoded data removed]",
      "text/plain": [
       "<Figure size 1000x700 with 1 Axes>"
      ]
     },
     "metadata": {},
     "output_type": "display_data"
    }
   ],
   "source": [
    "plot_predictions(predictions=y_predictions)"
   ]
  },
  {
   "cell_type": "markdown",
   "id": "cf3e624d-97ed-4c57-91f4-4c69eb0ff6ae",
   "metadata": {
    "tags": []
   },
   "source": [
    "## 3 train model\n"
   ]
  },
  {
   "cell_type": "markdown",
   "id": "9e20ee81-2a67-4834-9e10-c5d4813efebe",
   "metadata": {},
   "source": [
    "one way to measure model predictions is using a loss function"
   ]
  },
  {
   "cell_type": "markdown",
   "id": "bd6c8995-5db9-4bb4-9275-ee65d8afd231",
   "metadata": {},
   "source": [
    "this we need to train\n",
    "**Loss Function**:\n",
    "**Optimiser**:\n",
    "\n",
    "We Need\n",
    "- Training Loop\n",
    "- Testing Loop\n"
   ]
  },
  {
   "cell_type": "code",
   "execution_count": 41,
   "id": "6209f053-c418-4503-a62d-c527e1d741e4",
   "metadata": {
    "tags": []
   },
   "outputs": [
    {
     "name": "stdout",
     "output_type": "stream",
     "text": [
      "<Tensor const<0.14190717041492462, dtypes.float> with grad None>\n",
      "<Tensor const<-1.6685079336166382, dtypes.float> with grad None>\n"
     ]
    }
   ],
   "source": [
    "print(model_0.weights)\n",
    "\n",
    "print(model_0.bias)\n"
   ]
  },
  {
   "cell_type": "markdown",
   "id": "98af2d3a-0d06-4f6f-9aba-030c39de7962",
   "metadata": {},
   "source": [
    "## Setup Loss function\n",
    "MAE_loss = Tensor.mean(Tensor.abs(y_pred-y_test))\n"
   ]
  },
  {
   "cell_type": "code",
   "execution_count": 42,
   "id": "c424e89a-e216-4d3f-8b47-de919f2b585f",
   "metadata": {
    "tags": []
   },
   "outputs": [],
   "source": [
    "def MAE_loss(y_pred, y_true):\n",
    "    return Tensor.mean(Tensor.abs(y_pred.sub(y_true)))\n",
    "    "
   ]
  },
  {
   "cell_type": "code",
   "execution_count": 43,
   "id": "48990b7f-6b4d-43e7-a390-387c413ac5e1",
   "metadata": {
    "tags": []
   },
   "outputs": [],
   "source": [
    "from tinygrad.nn.optim import *"
   ]
  },
  {
   "cell_type": "code",
   "execution_count": 44,
   "id": "2c055c3c-0cea-470c-acab-b265a36c6a47",
   "metadata": {
    "tags": []
   },
   "outputs": [
    {
     "data": {
      "text/plain": [
       "[<Tensor const<0.14190717041492462, dtypes.float> with grad None>,\n",
       " <Tensor const<-1.6685079336166382, dtypes.float> with grad None>]"
      ]
     },
     "execution_count": 44,
     "metadata": {},
     "output_type": "execute_result"
    }
   ],
   "source": [
    "get_parameters(model_0)"
   ]
  },
  {
   "cell_type": "code",
   "execution_count": 82,
   "id": "7703e6d5-67de-40c6-b429-a81245962ab9",
   "metadata": {
    "tags": []
   },
   "outputs": [],
   "source": [
    "optim = SGD(get_parameters(model_0), lr=0.001)"
   ]
  },
  {
   "cell_type": "code",
   "execution_count": null,
   "id": "79b8a0dc-1d0d-46ea-9644-5a1667ef9b96",
   "metadata": {
    "tags": []
   },
   "outputs": [],
   "source": []
  },
  {
   "cell_type": "markdown",
   "id": "8523ae1a-672d-4ed3-b75f-e65ff4159039",
   "metadata": {},
   "source": [
    "## Building A training loop in tingrad\n",
    "\n",
    "0. loop through data\n",
    "1. forward pass\n",
    "2. calculate loss\n",
    "3. optimiser zero grad\n",
    "4. loss backward (backpropogation)\n",
    "5. Optimiser step\n"
   ]
  },
  {
   "cell_type": "code",
   "execution_count": 83,
   "id": "c26798e3-54fe-461c-aa72-2f6411fd5af7",
   "metadata": {
    "tags": []
   },
   "outputs": [
    {
     "name": "stdout",
     "output_type": "stream",
     "text": [
      "(40, 1)\n",
      "(40, 1)\n",
      "<Tensor <LB (40, 1) dtypes.float op:BinaryOps.ADD st:ShapeTracker(shape=(40, 1), views=[View((40, 1), (1, 0), 0, None)])> with grad None>\n",
      "<Tensor <LB (40, 1) dtypes.float op:BinaryOps.SUB st:ShapeTracker(shape=(40, 1), views=[View((40, 1), (1, 0), 0, None)])> with grad None>\n",
      "(40, 1)\n"
     ]
    }
   ],
   "source": [
    "print(y_train.shape)\n",
    "y_pred = model_0.forward(X_train)\n",
    "print(y_pred.shape)\n",
    "print(y_pred)\n",
    "print((y_pred-y_train))\n",
    "print(X_train.shape)"
   ]
  },
  {
   "cell_type": "code",
   "execution_count": 84,
   "id": "49ac8438-59e4-419d-881e-4053c07d059b",
   "metadata": {
    "tags": []
   },
   "outputs": [
    {
     "name": "stdout",
     "output_type": "stream",
     "text": [
      "[[0.7007]]\n",
      "[0.2920]\n"
     ]
    }
   ],
   "source": [
    "# epoch is one loop through data\n",
    "epochs = 1000\n",
    "\n",
    "\n",
    "# 0. loop through data\n",
    "\n",
    "for epoch in range(epochs):\n",
    "    # set model to training mode\n",
    "    #Tensor.training = True\n",
    "    \n",
    "    #loss.requires_grad = True\n",
    "    #1. forward pass\n",
    "    y_pred = model_0.forward(X_train)\n",
    "    \n",
    "    #2. calculate loss\n",
    "    loss = MAE_loss(y_pred, y_train)\n",
    "    \n",
    "    #3. optimiser zero grad\n",
    "    optim.zero_grad()\n",
    "    \n",
    "    #4. perforam backpropagtion\n",
    "    loss.backward()\n",
    "    #if noloss: del loss\n",
    "    \n",
    "    #5. perform gradient descent\n",
    "    optimiser.step()\n",
    "    \n",
    "    # turn off gradient tracking\n",
    "    \n",
    "    \n",
    "print(model_0.weights.numpy())\n",
    "print(model_0.bias.numpy())\n"
   ]
  },
  {
   "cell_type": "code",
   "execution_count": 56,
   "id": "06a8e984-15c3-44e6-bae6-41ca956e46a5",
   "metadata": {},
   "outputs": [
    {
     "name": "stdout",
     "output_type": "stream",
     "text": [
      "[<Tensor buffer<1, dtypes.float> with grad <LB (1, 1) dtypes.float op:buffer<1, dtypes.float> st:ShapeTracker(shape=(1, 1), views=[View((1, 1), (0, 0), 0, None)])>>, <Tensor buffer<1, dtypes.float> with grad <LB (1,) dtypes.float op:buffer<1, dtypes.float> st:ShapeTracker(shape=(1,), views=[View((1,), (0,), 0, None)])>>]\n",
      "[<Tensor <LB (1,) dtypes.float op:BinaryOps.MUL st:ShapeTracker(shape=(1,), views=[View((1,), (0,), 0, None)])> with grad <LB (1,) dtypes.float op:const<1.0, dtypes.float> st:ShapeTracker(shape=(1,), views=[View((1,), (0,), 0, None)])>>]\n"
     ]
    }
   ],
   "source": [
    "print(get_parameters(model_0))\n",
    "print(get_parameters(loss))"
   ]
  },
  {
   "cell_type": "code",
   "execution_count": null,
   "id": "77c9f51d-9471-4fb6-83fc-40fff9abecc0",
   "metadata": {},
   "outputs": [],
   "source": []
  },
  {
   "cell_type": "code",
   "execution_count": null,
   "id": "3d241319-7ee7-47d7-a529-2278b55a5ce2",
   "metadata": {},
   "outputs": [],
   "source": []
  },
  {
   "cell_type": "code",
   "execution_count": null,
   "id": "1af52492-2e78-4bbd-b184-ac1a2a8a70be",
   "metadata": {},
   "outputs": [],
   "source": []
  }
 ],
 "metadata": {
  "kernelspec": {
   "display_name": "Python 3 (ipykernel)",
   "language": "python",
   "name": "python3"
  },
  "language_info": {
   "codemirror_mode": {
    "name": "ipython",
    "version": 3
   },
   "file_extension": ".py",
   "mimetype": "text/x-python",
   "name": "python",
   "nbconvert_exporter": "python",
   "pygments_lexer": "ipython3",
   "version": "3.11.3"
  }
 },
 "nbformat": 4,
 "nbformat_minor": 5
}
