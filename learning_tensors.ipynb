{
 "cells": [
  {
   "cell_type": "code",
   "execution_count": 1,
   "id": "3b296f8a-eeab-42bb-8e22-0b5a4513b1e4",
   "metadata": {
    "tags": []
   },
   "outputs": [],
   "source": [
    "import numpy as np"
   ]
  },
  {
   "cell_type": "code",
   "execution_count": 2,
   "id": "7046b98f-ca45-404a-945a-fd9524b5ccef",
   "metadata": {
    "tags": []
   },
   "outputs": [],
   "source": [
    "import tinygrad as tg\n",
    "from tinygrad import nn\n",
    "from tinygrad.nn import optim\n",
    "from tinygrad.tensor import Tensor\n",
    "from tinygrad.helpers import getenv\n",
    "from tinygrad.ops import GlobalCounters\n"
   ]
  },
  {
   "cell_type": "code",
   "execution_count": 4,
   "id": "27d22e88-cdba-4dcc-9f0f-1456c297a1fb",
   "metadata": {
    "tags": []
   },
   "outputs": [],
   "source": [
    "import pandas as pd"
   ]
  },
  {
   "cell_type": "code",
   "execution_count": 5,
   "id": "a90b0ac5-98b1-428b-82ad-db1439b6dd91",
   "metadata": {
    "tags": []
   },
   "outputs": [],
   "source": [
    "import numpy as np"
   ]
  },
  {
   "cell_type": "code",
   "execution_count": 6,
   "id": "b8062dea-6a76-4aba-85df-80cd37c0107d",
   "metadata": {
    "tags": []
   },
   "outputs": [],
   "source": [
    "import matplotlib.pyplot as plt"
   ]
  },
  {
   "cell_type": "markdown",
   "id": "571c28be-eaf6-4584-b271-f3873f527b4c",
   "metadata": {
    "tags": []
   },
   "source": [
    "# Tensors in tinygrad are just syntactic sugar for numpy arrays"
   ]
  },
  {
   "cell_type": "markdown",
   "id": "e52c2798-c49f-4635-95c3-9cbd6d4551cd",
   "metadata": {},
   "source": [
    "## scalar in tinygrad\n",
    "scalars in tinygrad are also tensors"
   ]
  },
  {
   "cell_type": "code",
   "execution_count": 7,
   "id": "efa95f50-f311-40d9-af93-eafb8b7966a9",
   "metadata": {
    "tags": []
   },
   "outputs": [
    {
     "data": {
      "text/plain": [
       "tinygrad.tensor.Tensor"
      ]
     },
     "execution_count": 7,
     "metadata": {},
     "output_type": "execute_result"
    }
   ],
   "source": [
    "x = Tensor([1.23232])\n",
    "Tensor"
   ]
  },
  {
   "cell_type": "markdown",
   "id": "f71e9a8d-a938-4bac-a079-2df3336ad512",
   "metadata": {},
   "source": [
    "# Initialising Tensors"
   ]
  },
  {
   "cell_type": "markdown",
   "id": "55378fe8-7c9b-4e31-bbfe-1a20ab22a463",
   "metadata": {},
   "source": [
    "## directly from data. (is type auto inferred?) seems like it"
   ]
  },
  {
   "cell_type": "code",
   "execution_count": 8,
   "id": "5c0e5029-c4cd-46a1-9a74-fb571859ed08",
   "metadata": {
    "tags": []
   },
   "outputs": [
    {
     "name": "stdout",
     "output_type": "stream",
     "text": [
      "<Tensor <LB (2, 2) dtypes.float op:LoadOps.FROMCPU st:ShapeTracker(shape=(2, 2), views=[View((2, 2), (2, 1), 0, None)])> with grad None>\n",
      "[[1. 2.]\n",
      " [3. 4.]]\n"
     ]
    }
   ],
   "source": [
    "a = Tensor([4])\n",
    "b = Tensor([6])\n",
    "data = [[1, 2],[3, 4]]\n",
    "x_data = Tensor(data)\n",
    "print(x_data)\n",
    "print(x_data.numpy())\n"
   ]
  },
  {
   "cell_type": "markdown",
   "id": "cefc0b55-e5f8-4492-ac4d-e5ae87da185b",
   "metadata": {},
   "source": [
    "## initialise with different data types (int64, float 32)"
   ]
  },
  {
   "cell_type": "markdown",
   "id": "136dddf7-097e-4744-a36b-1b92d8088de7",
   "metadata": {},
   "source": [
    "## from Numpy Arrays"
   ]
  },
  {
   "cell_type": "code",
   "execution_count": 9,
   "id": "53415d0a-2442-4d2b-b6e1-418a66900759",
   "metadata": {
    "tags": []
   },
   "outputs": [
    {
     "name": "stdout",
     "output_type": "stream",
     "text": [
      "<Tensor <LB (2, 2) dtypes.int64 op:LoadOps.FROMCPU st:ShapeTracker(shape=(2, 2), views=[View((2, 2), (2, 1), 0, None)])> with grad None>\n",
      "[[1 2]\n",
      " [3 4]]\n"
     ]
    }
   ],
   "source": [
    "np_array = np.array(data)\n",
    "x_np = Tensor(np_array)\n",
    "print(x_np)\n",
    "print(x_np.numpy())"
   ]
  },
  {
   "cell_type": "markdown",
   "id": "ecc31990-ad5b-4c3b-bdce-bd888adbf342",
   "metadata": {},
   "source": [
    "### interesting. above is type float, here its int64. why?\n"
   ]
  },
  {
   "cell_type": "markdown",
   "id": "69def0d6-c3e4-4d32-863b-125c6f564798",
   "metadata": {
    "tags": []
   },
   "source": [
    "#### with random or const values"
   ]
  },
  {
   "cell_type": "code",
   "execution_count": 10,
   "id": "f2668963-fc1a-4f14-917a-043619076f29",
   "metadata": {
    "tags": []
   },
   "outputs": [
    {
     "name": "stdout",
     "output_type": "stream",
     "text": [
      "(2, 3)\n"
     ]
    }
   ],
   "source": [
    "\n",
    "shape = (2,3)\n",
    "rand_tensor = Tensor.rand(2,3)\n",
    "print(rand_tensor.shape)"
   ]
  },
  {
   "cell_type": "markdown",
   "id": "a628598b-4fb5-42df-a182-3bad52464d9d",
   "metadata": {},
   "source": [
    "#### with ones"
   ]
  },
  {
   "cell_type": "code",
   "execution_count": 11,
   "id": "cba32c30-13f4-41cf-be9a-e47cf9c17f07",
   "metadata": {
    "tags": []
   },
   "outputs": [
    {
     "data": {
      "text/plain": [
       "dtypes.float"
      ]
     },
     "execution_count": 11,
     "metadata": {},
     "output_type": "execute_result"
    }
   ],
   "source": [
    "ones = Tensor.ones(3,4)\n",
    "ones.numpy()\n",
    "ones.dtype"
   ]
  },
  {
   "cell_type": "markdown",
   "id": "b16a49c4-395e-45a2-b8a4-68873406c7d7",
   "metadata": {},
   "source": [
    "#### with zeros"
   ]
  },
  {
   "cell_type": "code",
   "execution_count": 12,
   "id": "d98e9f6f-e220-4af3-ac15-22a028c6d495",
   "metadata": {
    "tags": []
   },
   "outputs": [
    {
     "data": {
      "text/plain": [
       "array([[0., 0., 0., 0.],\n",
       "       [0., 0., 0., 0.],\n",
       "       [0., 0., 0., 0.]], dtype=float32)"
      ]
     },
     "execution_count": 12,
     "metadata": {},
     "output_type": "execute_result"
    }
   ],
   "source": [
    "zero = Tensor.zeros(3,4)\n",
    "zero.numpy()"
   ]
  },
  {
   "cell_type": "markdown",
   "id": "f6b9f26e-8296-4fcf-ace2-55a31be2b7cc",
   "metadata": {},
   "source": [
    "#### simple examples of adding tensors in tinygrad"
   ]
  },
  {
   "cell_type": "code",
   "execution_count": 13,
   "id": "09e77c41-85ec-4e25-bb16-9e8859de1351",
   "metadata": {
    "tags": []
   },
   "outputs": [
    {
     "name": "stdout",
     "output_type": "stream",
     "text": [
      "<Tensor <LB (1,) dtypes.float op:BinaryOps.ADD st:ShapeTracker(shape=(1,), views=[View((1,), (0,), 0, None)])> with grad None>\n",
      "[10.]\n",
      "<Tensor <LB (1,) dtypes.int64 op:LoadOps.FROMCPU st:ShapeTracker(shape=(1,), views=[View((1,), (0,), 0, None)])> with grad None>\n",
      "[1]\n",
      "<Tensor <LB (2,) dtypes.float op:LoadOps.FROMCPU st:ShapeTracker(shape=(2,), views=[View((2,), (1,), 0, None)])> with grad None>\n"
     ]
    }
   ],
   "source": [
    "c = Tensor(np.array([1]))\n",
    "d = np.array([1])\n",
    "result = a + b\n",
    "print(result)\n",
    "print(result.numpy())\n",
    "print(c)\n",
    "print(d)\n",
    "\n",
    "dim2 = Tensor([1,2],[1,5])\n",
    "print(dim2)"
   ]
  },
  {
   "cell_type": "markdown",
   "id": "c3ff4a9e-c672-4036-b582-7efc82b1e4a8",
   "metadata": {},
   "source": [
    "### Attributes of a Tensor"
   ]
  },
  {
   "cell_type": "code",
   "execution_count": 14,
   "id": "e848bb99-c772-42bb-90fc-76105b9a3e6a",
   "metadata": {
    "tags": []
   },
   "outputs": [
    {
     "name": "stdout",
     "output_type": "stream",
     "text": [
      "Shape of tensor: (3, 4)\n",
      "Datatype of tensor: dtypes.float\n",
      "Device tensor is stored on: CPU\n"
     ]
    }
   ],
   "source": [
    "\n",
    "tensor = Tensor.rand(3,4)\n",
    "print(f\"Shape of tensor: {tensor.shape}\")\n",
    "print(f\"Datatype of tensor: {tensor.dtype}\")\n",
    "print(f\"Device tensor is stored on: {tensor.device}\")"
   ]
  },
  {
   "cell_type": "markdown",
   "id": "528e5d2d-0beb-4f40-b3b1-f89fa27a3670",
   "metadata": {
    "tags": []
   },
   "source": [
    "# TODO Write a list of all possible operations on tensors. (link to another page(tensor_operations.py)\n"
   ]
  },
  {
   "cell_type": "code",
   "execution_count": 15,
   "id": "2ddeac8c-baa6-4ffe-8e61-0487e326e779",
   "metadata": {
    "tags": []
   },
   "outputs": [
    {
     "name": "stdout",
     "output_type": "stream",
     "text": [
      "First row: <Tensor <LB (4,) dtypes.float op:MovementOps.RESHAPE st:ShapeTracker(shape=(4,), views=[View((4,), (1,), 0, None)])> with grad None>\n",
      "First column: <Tensor <LB (3,) dtypes.float op:MovementOps.RESHAPE st:ShapeTracker(shape=(3,), views=[View((3,), (4,), 0, None)])> with grad None>\n",
      "<Tensor <LB (3, 4) dtypes.float op:LoadOps.FROMCPU st:ShapeTracker(shape=(3, 4), views=[View((3, 4), (4, 1), 0, None)])> with grad None>\n"
     ]
    }
   ],
   "source": [
    "print(f\"First row: {tensor[0]}\")\n",
    "print(f\"First column: {tensor[:, 0]}\")\n",
    "# why doesnt this work?\n",
    "# print(f\"Last column: {tensor[..., -1]}\")\n",
    "# tensor[:,1] = 0\n",
    "print(tensor)"
   ]
  },
  {
   "cell_type": "markdown",
   "id": "2be7e007-8a29-4043-ad0d-afb76a60e686",
   "metadata": {},
   "source": [
    "#### creating an identity matrix."
   ]
  },
  {
   "cell_type": "code",
   "execution_count": 16,
   "id": "3568f8e6-9087-4398-ab70-da848f333f41",
   "metadata": {
    "tags": []
   },
   "outputs": [
    {
     "name": "stdout",
     "output_type": "stream",
     "text": [
      "[[1. 0. 0. ... 0. 0. 0.]\n",
      " [0. 1. 0. ... 0. 0. 0.]\n",
      " [0. 0. 1. ... 0. 0. 0.]\n",
      " ...\n",
      " [0. 0. 0. ... 1. 0. 0.]\n",
      " [0. 0. 0. ... 0. 1. 0.]\n",
      " [0. 0. 0. ... 0. 0. 1.]]\n"
     ]
    }
   ],
   "source": [
    "\n",
    "\n",
    "id1 = Tensor.eye(128)\n",
    "id1.numpy()\n",
    "\n",
    "id2 = Tensor.eye(128)\n",
    "print(id2.numpy())\n"
   ]
  },
  {
   "cell_type": "markdown",
   "id": "c087334b-4049-4994-97c0-cd92ef3eca95",
   "metadata": {},
   "source": [
    "#### matrix transpose"
   ]
  },
  {
   "cell_type": "code",
   "execution_count": 17,
   "id": "d071b515-b4a7-40c2-9476-26658b5b0c67",
   "metadata": {
    "tags": []
   },
   "outputs": [
    {
     "name": "stdout",
     "output_type": "stream",
     "text": [
      "[[0.7072404  0.13345593 0.44201493 ... 0.04403275 0.4051845  0.00664622]\n",
      " [0.05405301 0.6385905  0.77256763 ... 0.5249928  0.85854095 0.9799499 ]\n",
      " [0.4368438  0.57177657 0.69131196 ... 0.63610125 0.5391675  0.73815995]\n",
      " ...\n",
      " [0.52399313 0.4285773  0.9391415  ... 0.775598   0.57152206 0.11852348]\n",
      " [0.556052   0.37595594 0.5289173  ... 0.50429004 0.21638668 0.35357308]\n",
      " [0.69829196 0.6734528  0.5091572  ... 0.20583594 0.9650903  0.54089785]]\n",
      "[[0.7072404  0.05405301 0.4368438  ... 0.52399313 0.556052   0.69829196]\n",
      " [0.13345593 0.6385905  0.57177657 ... 0.4285773  0.37595594 0.6734528 ]\n",
      " [0.44201493 0.77256763 0.69131196 ... 0.9391415  0.5289173  0.5091572 ]\n",
      " ...\n",
      " [0.04403275 0.5249928  0.63610125 ... 0.775598   0.50429004 0.20583594]\n",
      " [0.4051845  0.85854095 0.5391675  ... 0.57152206 0.21638668 0.9650903 ]\n",
      " [0.00664622 0.9799499  0.73815995 ... 0.11852348 0.35357308 0.54089785]]\n"
     ]
    }
   ],
   "source": [
    "\n",
    "y1 = Tensor.rand(32,32)\n",
    "print(y1.numpy())\n",
    "print(y1.T.numpy())"
   ]
  },
  {
   "cell_type": "markdown",
   "id": "b4299ec7-870d-4b2b-ac67-685f4210dc44",
   "metadata": {},
   "source": [
    "#### matrix multiplication"
   ]
  },
  {
   "cell_type": "code",
   "execution_count": 18,
   "id": "85604114-f8ca-42f7-b986-b6b34c2dcd43",
   "metadata": {
    "tags": []
   },
   "outputs": [
    {
     "name": "stdout",
     "output_type": "stream",
     "text": [
      "[[ 4.058259    5.175988    0.8065665  ...  6.979415   -1.1831769\n",
      "   7.237898  ]\n",
      " [ 1.4868002   1.4073349  -0.54212856 ... 10.402195   -1.286941\n",
      "   9.096824  ]\n",
      " [ 0.83593655  4.8065042   1.982448   ...  6.9105268   0.6498976\n",
      "   3.9251173 ]\n",
      " ...\n",
      " [-0.9089762  -1.122855    0.2515844  ...  7.3582087  -4.806018\n",
      "   9.6960745 ]\n",
      " [ 3.1613386  -0.42692447 -0.36419648 ...  6.6036935  -3.876374\n",
      "   9.557668  ]\n",
      " [ 1.8641697   4.7868958  -2.0954003  ...  7.826905   -1.8653092\n",
      "   8.44657   ]]\n"
     ]
    }
   ],
   "source": [
    "\n",
    "y2 = Tensor.randn(32,32)\n",
    "y3 = y1 @ y2\n",
    "print(y3.numpy())\n",
    "\n",
    "y4 = y1.matmul(y2)"
   ]
  },
  {
   "cell_type": "markdown",
   "id": "c0224c5c-85e8-4c2a-bbe9-468467698c67",
   "metadata": {
    "tags": []
   },
   "source": [
    "#### can you do an item()?"
   ]
  },
  {
   "cell_type": "markdown",
   "id": "53110510-a7d1-40ec-831f-ad9bf4a56a84",
   "metadata": {},
   "source": [
    "#### shape and ndim of tensors. remember, tensors are just np arrays"
   ]
  },
  {
   "cell_type": "code",
   "execution_count": 19,
   "id": "e08a0ace-2dec-49a5-bc92-27f3a71f74b9",
   "metadata": {
    "tags": []
   },
   "outputs": [
    {
     "name": "stdout",
     "output_type": "stream",
     "text": [
      "[[[ 1.  3.  4.]\n",
      "  [12.  2.  3.]\n",
      "  [23.  2.  3.]]]\n"
     ]
    },
    {
     "data": {
      "text/plain": [
       "(1, 3, 3)"
      ]
     },
     "execution_count": 19,
     "metadata": {},
     "output_type": "execute_result"
    }
   ],
   "source": [
    "\n",
    "TENSOR = Tensor([[[1,3,4],\n",
    "                  [12,2,3],\n",
    "                  [23,2,3]]])\n",
    "print(TENSOR.numpy())\n",
    "TENSOR.numpy().ndim\n",
    "TENSOR.numpy().shape"
   ]
  },
  {
   "cell_type": "markdown",
   "id": "40d94940-eee6-4212-898e-4d624a2a4969",
   "metadata": {},
   "source": [
    "#### why does this use full stops instead of commas?"
   ]
  },
  {
   "cell_type": "code",
   "execution_count": 41,
   "id": "dc2e0fde-8e4d-4723-a425-af9e0091ab7d",
   "metadata": {
    "tags": []
   },
   "outputs": [
    {
     "name": "stdout",
     "output_type": "stream",
     "text": [
      "[0.  0.5 1.  1.5 2.  2.5 3.  3.5 4.  4.5 5.  5.5 6.  6.5 7.  7.5 8.  8.5\n",
      " 9.  9.5]\n",
      "[0.0, 1.0, 2.0, 3.0, 4.0, 5.0, 6.0, 7.0, 8.0, 9.0]\n"
     ]
    }
   ],
   "source": [
    "\n",
    "one_to_ten = Tensor.arange(start=0, stop=10, step=1)\n",
    "print(Tensor.arange(start=0,stop=10,step=0.5).numpy())\n",
    "print(one_to_ten.numpy().tolist())\n"
   ]
  },
  {
   "cell_type": "markdown",
   "id": "0afc5b22-e8c7-4e15-bed0-75315bf42658",
   "metadata": {},
   "source": [
    "#### create tensor with zeros with same shape as another tensor"
   ]
  },
  {
   "cell_type": "code",
   "execution_count": 21,
   "id": "cce04f28-3d79-461d-9502-35e0a5dec514",
   "metadata": {
    "tags": []
   },
   "outputs": [
    {
     "name": "stdout",
     "output_type": "stream",
     "text": [
      "<Tensor <LB (10,) dtypes.float op:LoadOps.CONTIGUOUS st:ShapeTracker(shape=(10,), views=[View((10,), (1,), 0, None)])> with grad None>\n"
     ]
    }
   ],
   "source": [
    "print(Tensor.zeros_like(tensor=one_to_ten))"
   ]
  },
  {
   "cell_type": "markdown",
   "id": "25969e59-c694-44b9-b3e7-612d8fc4a4bc",
   "metadata": {},
   "source": [
    "#### Tensor datatypes\n",
    " Tinygrad does not support changing dtype. it is inferred. You must use numpy to set dtype\n"
   ]
  },
  {
   "cell_type": "code",
   "execution_count": 22,
   "id": "6b460bf6-a432-4439-9162-00a2eaf745a3",
   "metadata": {
    "tags": []
   },
   "outputs": [
    {
     "data": {
      "text/plain": [
       "<Tensor <LB (2, 2) dtypes.int64 op:LoadOps.FROMCPU st:ShapeTracker(shape=(2, 2), views=[View((2, 2), (2, 1), 0, None)])> with grad None>"
      ]
     },
     "execution_count": 22,
     "metadata": {},
     "output_type": "execute_result"
    }
   ],
   "source": [
    "\n",
    "\n",
    "data1 = np.array([[1, 2], [3, 4]], dtype='int64')\n",
    "data2 = np.array([[1, 2], [3, 4]], dtype='int32')\n",
    "data3 = np.array([[1, 2], [3, 4]], dtype='float32')\n",
    "Tensor(data1)\n"
   ]
  },
  {
   "cell_type": "markdown",
   "id": "59c69024-35e1-4cb7-962c-ed25998eab4f",
   "metadata": {},
   "source": [
    "Keep in mind that the operations in tinygrad are designed for floating-point data, \n",
    "and using integer values might lead to unexpected behavior or errors. \n",
    "It is generally recommended to use the default dtype (float32) when working with tinygrad."
   ]
  },
  {
   "cell_type": "code",
   "execution_count": 23,
   "id": "517be106-0354-4dd8-90a8-533a14856be7",
   "metadata": {
    "tags": []
   },
   "outputs": [],
   "source": [
    "data4 = np.array([[1, 2], [3, 4]])\n",
    "# tensor2 = Tensor(data4, dtype=None, device=\"cpu\", requires_grad=False)\n",
    "tensor3 = Tensor(data4, dtype=None, device=None, requires_grad=False)\n",
    "tensor4 = Tensor(data4, dtype=None, requires_grad=False)"
   ]
  },
  {
   "cell_type": "markdown",
   "id": "27f60100-719d-4337-92b6-19a9b860df16",
   "metadata": {},
   "source": [
    "you can use cuda (etc. planned) backends. not sure how to do that. sticking to CPU for now"
   ]
  },
  {
   "cell_type": "markdown",
   "id": "5493cae9-3b8f-4efd-b02d-0285bfc18375",
   "metadata": {},
   "source": [
    "get info about tensor\n"
   ]
  },
  {
   "cell_type": "code",
   "execution_count": 24,
   "id": "ec8b3ae2-c3c6-41cc-ab1c-fcc2ffc42af2",
   "metadata": {
    "tags": []
   },
   "outputs": [
    {
     "name": "stdout",
     "output_type": "stream",
     "text": [
      "dtypes.int64\n",
      "(2, 2)\n",
      "None\n",
      "CPU\n"
     ]
    }
   ],
   "source": [
    "print(tensor3.dtype)\n",
    "print(tensor3.shape)\n",
    "print(tensor3.device)\n",
    "print(tensor4.device)"
   ]
  },
  {
   "cell_type": "markdown",
   "id": "cf653b98-aeb2-47e0-a74e-440c69abbb96",
   "metadata": {},
   "source": [
    "Operators Accelerator has to implemet\n",
    "\n",
    "- UnaryOps(Enum): NOOP = auto(); EXP = auto(); LOG = auto(); CAST = auto() # noqa: E702\n",
    "-  BinaryOps(Enum): ADD = auto(); SUB = auto(); MUL = auto(); DIV = auto(); POW = auto(); CMPEQ = auto(); MAX = auto() # noqa: E702\n",
    "-  ReduceOps(Enum): SUM = auto(); MAX = auto() # noqa: E702\n",
    "-  FusedOps(Enum): MULACC = auto() # noqa: E702\n",
    "-  LoadOps(Enum): FROMCPU = auto(); CONTIGUOUS = auto(); TOCPU = auto(); CUSTOM = auto() # noqa: E702\n"
   ]
  },
  {
   "cell_type": "markdown",
   "id": "d4c150e5-87c1-4eb5-bb9a-303a67bb90c3",
   "metadata": {},
   "source": [
    "Tensor operations\n",
    "- Addition\n",
    "- Sub \n",
    "- Element wise multiplication\n",
    "- Division\n",
    "- Matrix multiplication\n",
    "\n"
   ]
  },
  {
   "cell_type": "markdown",
   "id": "14c4b560-b464-4ba1-8892-ebfc0a85a266",
   "metadata": {},
   "source": []
  },
  {
   "cell_type": "code",
   "execution_count": 25,
   "id": "aea131cd-5027-4579-bec6-d631997b86b5",
   "metadata": {
    "tags": []
   },
   "outputs": [
    {
     "name": "stdout",
     "output_type": "stream",
     "text": [
      "[1. 2. 3.]\n",
      "[101. 102. 103.]\n"
     ]
    }
   ],
   "source": [
    "AdditionTensor = Tensor([1,2,3])\n",
    "print(AdditionTensor.numpy())\n",
    "#AdditionTensor2 = Tensor([1,2,3])\n",
    "AdditionTensor += 100\n",
    "print(AdditionTensor.numpy())"
   ]
  },
  {
   "cell_type": "markdown",
   "id": "ec990488-2228-4a0b-b63b-2f1f6d557bfe",
   "metadata": {},
   "source": [
    "##### can multiply by scalar"
   ]
  },
  {
   "cell_type": "code",
   "execution_count": 26,
   "id": "15343b27-254a-450d-8130-98992e4fd1cd",
   "metadata": {
    "tags": []
   },
   "outputs": [
    {
     "name": "stdout",
     "output_type": "stream",
     "text": [
      "[101. 102. 103.]\n",
      "[1010. 1020. 1030.]\n",
      "[1010. 1020. 1030.]\n"
     ]
    }
   ],
   "source": [
    "\n",
    "MultiplyTensor = AdditionTensor\n",
    "print(MultiplyTensor.numpy())\n",
    "print((MultiplyTensor * 10).numpy())\n",
    "print((MultiplyTensor.mul(10)).numpy())"
   ]
  },
  {
   "cell_type": "code",
   "execution_count": 27,
   "id": "3d105b33-edd2-4c2f-825c-2f30028d188d",
   "metadata": {
    "tags": []
   },
   "outputs": [
    {
     "name": "stdout",
     "output_type": "stream",
     "text": [
      "[101. 102. 103.]\n",
      "[91. 92. 93.]\n"
     ]
    }
   ],
   "source": [
    "SubtractionTensor = AdditionTensor\n",
    "print(SubtractionTensor.numpy())\n",
    "# print((SubtractionTensor - 10).numpy())\n",
    "SubtractionTensor -= 10\n",
    "print(SubtractionTensor.numpy())"
   ]
  },
  {
   "cell_type": "markdown",
   "id": "35d9cd0b-a4aa-4761-b634-e71ac7855e72",
   "metadata": {},
   "source": [
    "##### element wise mult"
   ]
  },
  {
   "cell_type": "code",
   "execution_count": 28,
   "id": "d403ef7e-fda7-47b7-86dc-8f15732402d1",
   "metadata": {
    "tags": []
   },
   "outputs": [
    {
     "name": "stdout",
     "output_type": "stream",
     "text": [
      "[1. 4. 9.]\n",
      "[1. 4. 9.]\n"
     ]
    }
   ],
   "source": [
    "\n",
    "\n",
    "elemTensor1 = Tensor([1,2,3])\n",
    "elemTensor2 = Tensor([1,2,3])\n",
    "print((elemTensor1 * elemTensor2).numpy())\n",
    "print((elemTensor1.mul(elemTensor2)).numpy())"
   ]
  },
  {
   "cell_type": "markdown",
   "id": "5d259b16-82bf-4174-b180-f3a8445ab20b",
   "metadata": {},
   "source": [
    "##### matrix dot product"
   ]
  },
  {
   "cell_type": "code",
   "execution_count": 29,
   "id": "3206d798-44ae-4774-a603-9386b469769d",
   "metadata": {
    "tags": []
   },
   "outputs": [
    {
     "name": "stdout",
     "output_type": "stream",
     "text": [
      "[[ 3.0346458  4.8258753 -2.7468014]\n",
      " [ 4.8258753 15.220107  -6.004783 ]\n",
      " [-2.7468014 -6.004783   4.051841 ]]\n",
      "[[ 3.0346458  4.8258753 -2.7468014]\n",
      " [ 4.8258753 15.220107  -6.004783 ]\n",
      " [-2.7468014 -6.004783   4.051841 ]]\n"
     ]
    }
   ],
   "source": [
    "\n",
    "randomTensor = Tensor.randn(3,5)\n",
    "print((randomTensor @ randomTensor.T).numpy())\n",
    "print((randomTensor.matmul(randomTensor.T)).numpy())\n",
    "\n",
    "\n",
    "# print((elemTensor1 @ elemTensor1.T).numpy())"
   ]
  },
  {
   "cell_type": "markdown",
   "id": "bd05c010-09d0-44ff-925c-20abeca17ffd",
   "metadata": {},
   "source": [
    "Finding Min, Max, Mean, sum (tensor aggregation)"
   ]
  },
  {
   "cell_type": "code",
   "execution_count": 30,
   "id": "51141249-ca6e-4a4d-884b-ed9179ba7bd4",
   "metadata": {
    "tags": []
   },
   "outputs": [
    {
     "name": "stdout",
     "output_type": "stream",
     "text": [
      "[4.]\n",
      "[1.]\n",
      "[2.5]\n"
     ]
    }
   ],
   "source": [
    "e = Tensor([1,2,3,4])\n",
    "print(e.max().numpy())\n",
    "print(e.min().numpy())\n",
    "print(e.mean().numpy())"
   ]
  },
  {
   "cell_type": "code",
   "execution_count": 31,
   "id": "d56a93c4-1de6-4d40-8f0f-749a1092509f",
   "metadata": {
    "tags": []
   },
   "outputs": [
    {
     "name": "stdout",
     "output_type": "stream",
     "text": [
      "[1.  1.5 2.  2.5 3.  3.5 4.  4.5 5.  5.5 6.  6.5 7.  7.5 8.  8.5 9.  9.5]\n"
     ]
    }
   ],
   "source": [
    "arange = np.arange(start=1, stop= 10, step =0.5)\n",
    "print(arange)"
   ]
  },
  {
   "cell_type": "markdown",
   "id": "b16e3aad-ece2-43d2-b13c-53cb6ff7faa6",
   "metadata": {},
   "source": [
    "#### Reshaping, squeezing and unsqueezing\n",
    "Reshape - change shape of matrix\n",
    "Unsqueeze - \n"
   ]
  },
  {
   "cell_type": "markdown",
   "id": "5ac40283-cc9d-4797-8d3a-667c4c9d70f4",
   "metadata": {},
   "source": [
    "##### Reshape"
   ]
  },
  {
   "cell_type": "code",
   "execution_count": 32,
   "id": "8a9b34e2-aad5-4b48-8b06-0457379da584",
   "metadata": {
    "tags": []
   },
   "outputs": [
    {
     "name": "stdout",
     "output_type": "stream",
     "text": [
      "[ 1.   1.5  2.   2.5  3.   3.5  4.   4.5  5.   5.5  6.   6.5  7.   7.5\n",
      "  8.   8.5  9.   9.5 10.  10.5]\n"
     ]
    }
   ],
   "source": [
    "f = Tensor.arange(start=1,stop=11,step=0.5)\n",
    "print(f.numpy())"
   ]
  },
  {
   "cell_type": "code",
   "execution_count": 33,
   "id": "94505f9d-cfc6-4bdb-b29f-8c4edb293ac2",
   "metadata": {
    "tags": []
   },
   "outputs": [
    {
     "name": "stdout",
     "output_type": "stream",
     "text": [
      "[[ 1.   1.5  2.   2.5  3. ]\n",
      " [ 3.5  4.   4.5  5.   5.5]\n",
      " [ 6.   6.5  7.   7.5  8. ]\n",
      " [ 8.5  9.   9.5 10.  10.5]]\n"
     ]
    }
   ],
   "source": [
    "f_reshaped1 = f.reshape(4,5)\n",
    "print(f_reshaped1.numpy())"
   ]
  },
  {
   "cell_type": "markdown",
   "id": "4992469d-7b6f-4c66-8015-fad7a0ee1671",
   "metadata": {},
   "source": [
    "##### Unsqueeze"
   ]
  },
  {
   "cell_type": "code",
   "execution_count": 34,
   "id": "031cc22d-d6dd-40e6-9a12-428446ba926b",
   "metadata": {
    "tags": []
   },
   "outputs": [
    {
     "name": "stdout",
     "output_type": "stream",
     "text": [
      "(20,)\n"
     ]
    },
    {
     "data": {
      "text/plain": [
       "(1, 20)"
      ]
     },
     "execution_count": 34,
     "metadata": {},
     "output_type": "execute_result"
    }
   ],
   "source": [
    "print(f.numpy().shape)\n",
    "f_unsqueezed = f.unsqueeze(1)\n",
    "f.unsqueeze(0).numpy().shape"
   ]
  },
  {
   "cell_type": "markdown",
   "id": "5573d071-e599-40ad-bf22-eb9215d225f6",
   "metadata": {},
   "source": [
    "##### permute\n",
    "change order of dimensions\n",
    "e.g. make 20x1 matrix 1x20"
   ]
  },
  {
   "cell_type": "code",
   "execution_count": 35,
   "id": "46b3cadb-0e18-465d-83d5-26234d92165c",
   "metadata": {
    "tags": []
   },
   "outputs": [
    {
     "name": "stdout",
     "output_type": "stream",
     "text": [
      "[[ 1. ]\n",
      " [ 1.5]\n",
      " [ 2. ]\n",
      " [ 2.5]\n",
      " [ 3. ]\n",
      " [ 3.5]\n",
      " [ 4. ]\n",
      " [ 4.5]\n",
      " [ 5. ]\n",
      " [ 5.5]\n",
      " [ 6. ]\n",
      " [ 6.5]\n",
      " [ 7. ]\n",
      " [ 7.5]\n",
      " [ 8. ]\n",
      " [ 8.5]\n",
      " [ 9. ]\n",
      " [ 9.5]\n",
      " [10. ]\n",
      " [10.5]]\n",
      "(1, 20)\n",
      "[[ 1.   1.5  2.   2.5  3.   3.5  4.   4.5  5.   5.5  6.   6.5  7.   7.5\n",
      "   8.   8.5  9.   9.5 10.  10.5]]\n"
     ]
    }
   ],
   "source": [
    "print(f_unsqueezed.numpy())\n",
    "print(f_unsqueezed.permute(1,0).shape)\n",
    "f_unsqueezed.shape\n",
    "print(f_unsqueezed.permute(1,0).numpy())\n"
   ]
  },
  {
   "cell_type": "markdown",
   "id": "bc8a5d45-d971-47e7-8484-1415b3cb534a",
   "metadata": {},
   "source": [
    "##### for e.g. with image recognition AI\n",
    "we have image 224*224 pixels * 3 colour channels\n"
   ]
  },
  {
   "cell_type": "code",
   "execution_count": 36,
   "id": "4cda5463-bc40-4634-9a96-d26f919f703b",
   "metadata": {
    "tags": []
   },
   "outputs": [
    {
     "name": "stdout",
     "output_type": "stream",
     "text": [
      "(224, 224, 3)\n",
      "(3, 224, 224)\n"
     ]
    }
   ],
   "source": [
    "image = Tensor.rand(224,224,3)\n",
    "print(image.shape)\n",
    "\n",
    "# permute to make colour channels first\n",
    "\n",
    "image_permuted = image.permute(2,0,1)\n",
    "print(image_permuted.shape)"
   ]
  },
  {
   "cell_type": "markdown",
   "id": "6fffcb0d-f54a-4d70-b699-242ff1eb3669",
   "metadata": {
    "tags": []
   },
   "source": [
    "##### Indexing\n"
   ]
  },
  {
   "cell_type": "code",
   "execution_count": 37,
   "id": "c4c4253a-4a6d-4d6f-b434-d01c37277b9a",
   "metadata": {
    "tags": []
   },
   "outputs": [
    {
     "name": "stdout",
     "output_type": "stream",
     "text": [
      "[0.05330229]\n"
     ]
    }
   ],
   "source": [
    "print(image[0,0,0].numpy())"
   ]
  },
  {
   "cell_type": "markdown",
   "id": "2fa0cd0d-786e-4625-bd88-55a21ea33701",
   "metadata": {},
   "source": [
    "# Random Seed\n"
   ]
  },
  {
   "cell_type": "code",
   "execution_count": 38,
   "id": "306fda6c-adfb-40bf-a813-f3009d615a7e",
   "metadata": {
    "tags": []
   },
   "outputs": [],
   "source": [
    "h = Tensor.randn(28,28)\n",
    "i = Tensor.randn(28,28)\n",
    "\n"
   ]
  },
  {
   "cell_type": "code",
   "execution_count": 39,
   "id": "300f70a4-948d-4820-98e2-4caee3b96aeb",
   "metadata": {},
   "outputs": [],
   "source": [
    "Tensor.manual_seed(42)\n",
    "j = Tensor.randn(28,28)"
   ]
  }
 ],
 "metadata": {
  "kernelspec": {
   "display_name": "Python 3 (ipykernel)",
   "language": "python",
   "name": "python3"
  },
  "language_info": {
   "codemirror_mode": {
    "name": "ipython",
    "version": 3
   },
   "file_extension": ".py",
   "mimetype": "text/x-python",
   "name": "python",
   "nbconvert_exporter": "python",
   "pygments_lexer": "ipython3",
   "version": "3.11.3"
  },
  "toc-autonumbering": true,
  "toc-showcode": false,
  "toc-showmarkdowntxt": false
 },
 "nbformat": 4,
 "nbformat_minor": 5
}
